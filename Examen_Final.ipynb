{
  "nbformat": 4,
  "nbformat_minor": 0,
  "metadata": {
    "colab": {
      "name": "Examen Final.ipynb",
      "provenance": [],
      "authorship_tag": "ABX9TyOvIGlzVmIQiZD6ElAyUpHC",
      "include_colab_link": true
    },
    "kernelspec": {
      "name": "python3",
      "display_name": "Python 3"
    }
  },
  "cells": [
    {
      "cell_type": "markdown",
      "metadata": {
        "id": "view-in-github",
        "colab_type": "text"
      },
      "source": [
        "<a href=\"https://colab.research.google.com/github/StevenGarc/Ejercicios_IA/blob/master/Examen_Final.ipynb\" target=\"_parent\"><img src=\"https://colab.research.google.com/assets/colab-badge.svg\" alt=\"Open In Colab\"/></a>"
      ]
    },
    {
      "cell_type": "markdown",
      "metadata": {
        "id": "pW4rIYAoVX1g"
      },
      "source": [
        "# Parcial Final"
      ]
    },
    {
      "cell_type": "markdown",
      "metadata": {
        "id": "VBgqoYfgVr6R"
      },
      "source": [
        "1. Seleccionar un dataset de Kaggle para trabajar.\n",
        "\n",
        "  El dataset seleccionado es 'PREDICTING A PULSAR STAR'"
      ]
    },
    {
      "cell_type": "code",
      "metadata": {
        "id": "Mpqjap9bJarM",
        "colab": {
          "base_uri": "https://localhost:8080/",
          "height": 241
        },
        "outputId": "7aaff2ff-20be-4b8c-cff9-b174e66b5fee"
      },
      "source": [
        "import pandas as pd\n",
        "import numpy as np\n",
        "from sklearn import preprocessing\n",
        "ObjDt = pd.read_csv(\"pulsar_stars.csv\")\n",
        "ObjDt.head()"
      ],
      "execution_count": null,
      "outputs": [
        {
          "output_type": "execute_result",
          "data": {
            "text/html": [
              "<div>\n",
              "<style scoped>\n",
              "    .dataframe tbody tr th:only-of-type {\n",
              "        vertical-align: middle;\n",
              "    }\n",
              "\n",
              "    .dataframe tbody tr th {\n",
              "        vertical-align: top;\n",
              "    }\n",
              "\n",
              "    .dataframe thead th {\n",
              "        text-align: right;\n",
              "    }\n",
              "</style>\n",
              "<table border=\"1\" class=\"dataframe\">\n",
              "  <thead>\n",
              "    <tr style=\"text-align: right;\">\n",
              "      <th></th>\n",
              "      <th>Mean of the integrated profile</th>\n",
              "      <th>Standard deviation of the integrated profile</th>\n",
              "      <th>Excess kurtosis of the integrated profile</th>\n",
              "      <th>Skewness of the integrated profile</th>\n",
              "      <th>Mean of the DM-SNR curve</th>\n",
              "      <th>Standard deviation of the DM-SNR curve</th>\n",
              "      <th>Excess kurtosis of the DM-SNR curve</th>\n",
              "      <th>Skewness of the DM-SNR curve</th>\n",
              "      <th>target_class</th>\n",
              "    </tr>\n",
              "  </thead>\n",
              "  <tbody>\n",
              "    <tr>\n",
              "      <th>0</th>\n",
              "      <td>140.562500</td>\n",
              "      <td>55.683782</td>\n",
              "      <td>-0.234571</td>\n",
              "      <td>-0.699648</td>\n",
              "      <td>3.199833</td>\n",
              "      <td>19.110426</td>\n",
              "      <td>7.975532</td>\n",
              "      <td>74.242225</td>\n",
              "      <td>0</td>\n",
              "    </tr>\n",
              "    <tr>\n",
              "      <th>1</th>\n",
              "      <td>102.507812</td>\n",
              "      <td>58.882430</td>\n",
              "      <td>0.465318</td>\n",
              "      <td>-0.515088</td>\n",
              "      <td>1.677258</td>\n",
              "      <td>14.860146</td>\n",
              "      <td>10.576487</td>\n",
              "      <td>127.393580</td>\n",
              "      <td>0</td>\n",
              "    </tr>\n",
              "    <tr>\n",
              "      <th>2</th>\n",
              "      <td>103.015625</td>\n",
              "      <td>39.341649</td>\n",
              "      <td>0.323328</td>\n",
              "      <td>1.051164</td>\n",
              "      <td>3.121237</td>\n",
              "      <td>21.744669</td>\n",
              "      <td>7.735822</td>\n",
              "      <td>63.171909</td>\n",
              "      <td>0</td>\n",
              "    </tr>\n",
              "    <tr>\n",
              "      <th>3</th>\n",
              "      <td>136.750000</td>\n",
              "      <td>57.178449</td>\n",
              "      <td>-0.068415</td>\n",
              "      <td>-0.636238</td>\n",
              "      <td>3.642977</td>\n",
              "      <td>20.959280</td>\n",
              "      <td>6.896499</td>\n",
              "      <td>53.593661</td>\n",
              "      <td>0</td>\n",
              "    </tr>\n",
              "    <tr>\n",
              "      <th>4</th>\n",
              "      <td>88.726562</td>\n",
              "      <td>40.672225</td>\n",
              "      <td>0.600866</td>\n",
              "      <td>1.123492</td>\n",
              "      <td>1.178930</td>\n",
              "      <td>11.468720</td>\n",
              "      <td>14.269573</td>\n",
              "      <td>252.567306</td>\n",
              "      <td>0</td>\n",
              "    </tr>\n",
              "  </tbody>\n",
              "</table>\n",
              "</div>"
            ],
            "text/plain": [
              "    Mean of the integrated profile  ...  target_class\n",
              "0                       140.562500  ...             0\n",
              "1                       102.507812  ...             0\n",
              "2                       103.015625  ...             0\n",
              "3                       136.750000  ...             0\n",
              "4                        88.726562  ...             0\n",
              "\n",
              "[5 rows x 9 columns]"
            ]
          },
          "metadata": {
            "tags": []
          },
          "execution_count": 1
        }
      ]
    },
    {
      "cell_type": "markdown",
      "metadata": {
        "id": "WzEqGQBHWA7R"
      },
      "source": [
        "#Descripcion\n"
      ]
    },
    {
      "cell_type": "markdown",
      "metadata": {
        "id": "j03gebCxXN-X"
      },
      "source": [
        "Cada candidato se describe mediante 8 variables continuas y una variable de clase única. Los primeros cuatro son estadísticas simples obtenidas del perfil de pulso integrado (perfil plegado). Este es un conjunto de variables continuas que describen una versión resuelta en longitud de la señal que se ha promediado tanto en tiempo como en frecuencia. Las cuatro variables restantes se obtienen de manera similar de la curva DM-SNR. Estos se resumen a continuación:\n",
        "\n",
        "    1 Media del perfil integrado.\n",
        "    2 Desviación estándar del perfil integrado.\n",
        "    3 Exceso de curtosis del perfil integrado.\n",
        "    4 Torcedura del perfil integrado.\n",
        "    5 Media de la curva DM-SNR.\n",
        "    6 Desviación estándar de la curva DM-SNR.\n",
        "    7 Exceso de curtosis de la curva DM-SNR.\n",
        "    8 Torcedura de la curva DM-SNR.\n",
        "    9 Clase"
      ]
    },
    {
      "cell_type": "markdown",
      "metadata": {
        "id": "PMNazCZnpnvO"
      },
      "source": [
        "# Entrenar y evaluar al sistema usando Árboles de Decisión,Regresión Logística y Redes neuronales"
      ]
    },
    {
      "cell_type": "code",
      "metadata": {
        "id": "nGAe7HhIXM1e"
      },
      "source": [
        "from sklearn import tree\n",
        "from sklearn import linear_model\n",
        "from sklearn.neural_network import MLPClassifier\n",
        "from sklearn.metrics import classification_report\n",
        "from sklearn.model_selection import train_test_split"
      ],
      "execution_count": null,
      "outputs": []
    },
    {
      "cell_type": "code",
      "metadata": {
        "id": "nS9Dn1dLzrSR"
      },
      "source": [
        "#Balanceo de datos\n",
        "pos = ObjDt[ObjDt['target_class'] == 1]\n",
        "neg = ObjDt[ObjDt['target_class'] == 0][:len(pos)]\n",
        "ObjDt = pd.concat([pos, neg])"
      ],
      "execution_count": null,
      "outputs": []
    },
    {
      "cell_type": "code",
      "metadata": {
        "id": "Jhplt6Jsbkn9"
      },
      "source": [
        "attributes = ObjDt.drop('target_class', axis=1)\n",
        "labels = ObjDt['target_class']"
      ],
      "execution_count": null,
      "outputs": []
    },
    {
      "cell_type": "code",
      "metadata": {
        "id": "GN8L5zRSawbS"
      },
      "source": [
        "att_train, att_test, lab_train, lab_test = train_test_split(attributes, labels, test_size =0.3)"
      ],
      "execution_count": null,
      "outputs": []
    },
    {
      "cell_type": "markdown",
      "metadata": {
        "id": "P_FaC50Vp1ON"
      },
      "source": [
        "Arbol de decision"
      ]
    },
    {
      "cell_type": "code",
      "metadata": {
        "id": "HpmWuPsSgzFG"
      },
      "source": [
        "model = tree.DecisionTreeClassifier()\n",
        "model.fit(att_train,lab_train)\n",
        "lab_pred= model.predict(att_test)"
      ],
      "execution_count": null,
      "outputs": []
    },
    {
      "cell_type": "code",
      "metadata": {
        "id": "fH8Du2RyhAXy",
        "colab": {
          "base_uri": "https://localhost:8080/",
          "height": 225
        },
        "outputId": "ddad82c9-cd47-4a39-8090-918720d99bda"
      },
      "source": [
        "print(\"\\nMetrincas Arbol de decision:\\n\\n\"+str(classification_report(lab_test,lab_pred)))"
      ],
      "execution_count": null,
      "outputs": [
        {
          "output_type": "stream",
          "text": [
            "\n",
            "Metrincas Arbol de decision:\n",
            "\n",
            "              precision    recall  f1-score   support\n",
            "\n",
            "           0       0.92      0.90      0.91       506\n",
            "           1       0.89      0.92      0.91       478\n",
            "\n",
            "    accuracy                           0.91       984\n",
            "   macro avg       0.91      0.91      0.91       984\n",
            "weighted avg       0.91      0.91      0.91       984\n",
            "\n"
          ],
          "name": "stdout"
        }
      ]
    },
    {
      "cell_type": "markdown",
      "metadata": {
        "id": "z_JZgN8wqKUP"
      },
      "source": [
        "Regresion Logistica"
      ]
    },
    {
      "cell_type": "code",
      "metadata": {
        "id": "albv3rgYVRX1"
      },
      "source": [
        "model = linear_model.LogisticRegression(solver='newton-cg')\n",
        "model.fit(att_train,lab_train)\n",
        "lab_pred= model.predict(att_test)"
      ],
      "execution_count": null,
      "outputs": []
    },
    {
      "cell_type": "code",
      "metadata": {
        "id": "AArhMavEaZ_5",
        "colab": {
          "base_uri": "https://localhost:8080/",
          "height": 225
        },
        "outputId": "69bd45b8-72a5-4ade-f65d-b0aeb7b9acbc"
      },
      "source": [
        "print(\"\\nMericas Regresion Logistica:\\n\\n\"+str(classification_report(lab_test,lab_pred)))"
      ],
      "execution_count": null,
      "outputs": [
        {
          "output_type": "stream",
          "text": [
            "\n",
            "Mericas Regresion Logistica:\n",
            "\n",
            "              precision    recall  f1-score   support\n",
            "\n",
            "           0       0.91      0.97      0.94       506\n",
            "           1       0.97      0.90      0.94       478\n",
            "\n",
            "    accuracy                           0.94       984\n",
            "   macro avg       0.94      0.94      0.94       984\n",
            "weighted avg       0.94      0.94      0.94       984\n",
            "\n"
          ],
          "name": "stdout"
        }
      ]
    },
    {
      "cell_type": "markdown",
      "metadata": {
        "id": "RfoXiR3FqV9D"
      },
      "source": [
        "Redes Neuronales"
      ]
    },
    {
      "cell_type": "code",
      "metadata": {
        "id": "QjZuZJgGhRh_"
      },
      "source": [
        "model = MLPClassifier(random_state=1, max_iter=300)\n",
        "model.fit(att_train,lab_train)\n",
        "lab_pred= model.predict(att_test)"
      ],
      "execution_count": null,
      "outputs": []
    },
    {
      "cell_type": "code",
      "metadata": {
        "id": "NKFK9n1qhc9J",
        "colab": {
          "base_uri": "https://localhost:8080/",
          "height": 225
        },
        "outputId": "a38d18d2-36e3-4a2d-ac60-5bfd3ef133b8"
      },
      "source": [
        "print(\"\\nMetricas Redes Neuronales:\\n\\n\"+str(classification_report(lab_test,lab_pred)))"
      ],
      "execution_count": null,
      "outputs": [
        {
          "output_type": "stream",
          "text": [
            "\n",
            "Metricas Redes Neuronales:\n",
            "\n",
            "              precision    recall  f1-score   support\n",
            "\n",
            "           0       0.91      0.93      0.92       506\n",
            "           1       0.92      0.90      0.91       478\n",
            "\n",
            "    accuracy                           0.91       984\n",
            "   macro avg       0.92      0.91      0.91       984\n",
            "weighted avg       0.91      0.91      0.91       984\n",
            "\n"
          ],
          "name": "stdout"
        }
      ]
    },
    {
      "cell_type": "markdown",
      "metadata": {
        "id": "j6wctQaUqdpV"
      },
      "source": [
        "# Para el entrenamiento y la evaluación de los modelos utilizar k-fold cross validation"
      ]
    },
    {
      "cell_type": "code",
      "metadata": {
        "id": "BDyT9ixvi7Ux"
      },
      "source": [
        "from sklearn.model_selection import cross_val_score\n",
        "from sklearn.model_selection import KFold"
      ],
      "execution_count": null,
      "outputs": []
    },
    {
      "cell_type": "code",
      "metadata": {
        "id": "BxoppjWkpGxA",
        "colab": {
          "base_uri": "https://localhost:8080/",
          "height": 34
        },
        "outputId": "76565464-bd0c-49e6-a617-697d951ed705"
      },
      "source": [
        "model = tree.DecisionTreeClassifier()\n",
        "kf = KFold(n_splits=3)\n",
        "accuracy = cross_val_score(model, att_train,lab_train, cv=kf, scoring=\"accuracy\" )\n",
        "print('accuracy promedio con K-Fold ', np.average(accuracy))"
      ],
      "execution_count": null,
      "outputs": [
        {
          "output_type": "stream",
          "text": [
            "accuracy promedio con K-Fold  0.9097628580227903\n"
          ],
          "name": "stdout"
        }
      ]
    },
    {
      "cell_type": "code",
      "metadata": {
        "id": "lJM8zUaRpFoF",
        "colab": {
          "base_uri": "https://localhost:8080/",
          "height": 34
        },
        "outputId": "a26cd19b-6efb-4f52-a576-29ff714287b3"
      },
      "source": [
        "model = linear_model.LogisticRegression(solver='newton-cg')\n",
        "kf = KFold(n_splits=3)\n",
        "accuracy = cross_val_score(model, att_train,lab_train, cv=kf, scoring=\"accuracy\" )\n",
        "print('accuracy promedio con K-Fold ', np.average(accuracy))"
      ],
      "execution_count": null,
      "outputs": [
        {
          "output_type": "stream",
          "text": [
            "accuracy promedio con K-Fold  0.9459472561566802\n"
          ],
          "name": "stdout"
        }
      ]
    },
    {
      "cell_type": "code",
      "metadata": {
        "id": "poPYoyDln4jV",
        "colab": {
          "base_uri": "https://localhost:8080/",
          "height": 34
        },
        "outputId": "88405269-7cff-415a-afcb-61e24a203b3b"
      },
      "source": [
        "model = MLPClassifier(random_state=1, max_iter=300)\n",
        "kf = KFold(n_splits=3)\n",
        "accuracy = cross_val_score(model, att_train,lab_train, cv=kf, scoring=\"accuracy\" )\n",
        "print('accuracy promedio con K-Fold ', np.average(accuracy))"
      ],
      "execution_count": null,
      "outputs": [
        {
          "output_type": "stream",
          "text": [
            "accuracy promedio con K-Fold  0.9293826780275811\n"
          ],
          "name": "stdout"
        }
      ]
    },
    {
      "cell_type": "markdown",
      "metadata": {
        "id": "pYOQl6b5qzA_"
      },
      "source": [
        "# Analizar con las diferentes métricas:\n",
        "\n",
        "Basado en el valor accuracy de los diferentes modelos, se puede ver que el más alto es el obtenido por el modelo de regresión logística, esta métrica es relevante puesto que permite saber en qué proporción se clasificaron correctamente los casos de prueba, otra métrica importante para este problema es la precisión que permite identificar qué proporción de las estrellas clasificadas como pulsar en realidad lo son, por ello el mejor de los clasificadores es regresión logística con una precisión del 97% y un accuracy de 94% "
      ]
    }
  ]
}