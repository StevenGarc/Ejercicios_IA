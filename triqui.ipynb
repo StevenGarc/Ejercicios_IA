{
  "nbformat": 4,
  "nbformat_minor": 0,
  "metadata": {
    "colab": {
      "name": "triqui.ipynb",
      "provenance": [],
      "include_colab_link": true
    },
    "kernelspec": {
      "display_name": "Python 3",
      "language": "python",
      "name": "python3"
    },
    "language_info": {
      "codemirror_mode": {
        "name": "ipython",
        "version": 3
      },
      "file_extension": ".py",
      "mimetype": "text/x-python",
      "name": "python",
      "nbconvert_exporter": "python",
      "pygments_lexer": "ipython3",
      "version": "3.6.8"
    }
  },
  "cells": [
    {
      "cell_type": "markdown",
      "metadata": {
        "id": "view-in-github",
        "colab_type": "text"
      },
      "source": [
        "<a href=\"https://colab.research.google.com/github/StevenGarc/Ejercicios_IA/blob/master/triqui.ipynb\" target=\"_parent\"><img src=\"https://colab.research.google.com/assets/colab-badge.svg\" alt=\"Open In Colab\"/></a>"
      ]
    },
    {
      "cell_type": "code",
      "metadata": {
        "id": "mOth2y01tYJR"
      },
      "source": [
        "from copy import deepcopy\n",
        "HUMANO = -1\n",
        "COMPUTADOR = 1\n",
        "fichas = {HUMANO: \"O\" , COMPUTADOR: \"X\"}"
      ],
      "execution_count": 1,
      "outputs": []
    },
    {
      "cell_type": "code",
      "metadata": {
        "id": "9gUHzN0wh6W8"
      },
      "source": [
        "class Estado(object):\n",
        "  def __init__(self, tablero = [[0,  0, 0], [0,  0, 0], [0,  0, 0]]):\n",
        "    self.tablero = tablero\n",
        "\n",
        "  def __str__(self):\n",
        "    str_tablero = \"\"\n",
        "    for i in range(3):\n",
        "      for j in range(3):\n",
        "        casilla = fichas[self.tablero[i][j]] if self.tablero[i][j] !=0 else  \" \"\n",
        "        str_tablero += casilla\n",
        "        if j<2:\n",
        "          str_tablero += \"│\"\n",
        "    \n",
        "      str_tablero += \"\\n\"\n",
        "      if i<2:\n",
        "        str_tablero += \"─┼─┼─\\n\" \n",
        "\n",
        "    return str_tablero + \"\\n\"\n",
        "\n",
        "  def __repr__(self):\n",
        "    return self.__str__()\n"
      ],
      "execution_count": 2,
      "outputs": []
    },
    {
      "cell_type": "code",
      "metadata": {
        "id": "zvnWlrxoi309"
      },
      "source": [
        "# debe devolver True o False\n",
        "def es_final(e):\n",
        "  cont = 0\n",
        "  suma1=0\n",
        "  suma2=0\n",
        "  for i in range(3):\n",
        "    suma1+= e.tablero[i][i]         #diagonal \\\n",
        "    suma2+= e.tablero[i][-(i+1)]    #diaginal /\n",
        "    suma = sum(e.tablero[i])        # filas --\n",
        "    if abs(suma) == 3: \n",
        "      return True\n",
        "    suma = 0\n",
        "    for j in range(3):              #Columna |\n",
        "      cont+=(1 if e.tablero[j][i]==0 else 0)\n",
        "      suma+=e.tablero[j][i]\n",
        "    if abs(suma) == 3: \n",
        "      return True\n",
        "  if cont == 0:\n",
        "     return True\n",
        "  if abs(suma1) == 3 or abs(suma2) == 3:\n",
        "    return True\n",
        "  \n",
        "  return False\n"
      ],
      "execution_count": 3,
      "outputs": []
    },
    {
      "cell_type": "code",
      "metadata": {
        "id": "EP-oubqEkiRN"
      },
      "source": [
        "# debe retornar -1 si gana el humano, 1 si gana el pc o 0 si hay empate\n",
        "def utilidad(e):\n",
        "  #input(\"Enter\")\n",
        "  if not es_final(e): raise Exception(str(e) + \" no es estado final\")\n",
        "  suma1=0\n",
        "  suma2=0 \n",
        "  for i in range(3):\n",
        "    suma1+= e.tablero[i][i]         #diagonal \\\n",
        "    suma2+= e.tablero[i][-(i+1)]    #diaginal /\n",
        "    suma = sum(e.tablero[i])        # filas --\n",
        "    if abs(suma) == 3: \n",
        "      return suma/3\n",
        "    suma = 0\n",
        "    for j in range(3):              #Columna |\n",
        "      suma+=e.tablero[j][i]\n",
        "    if abs(suma) == 3:\n",
        "      return suma/3\n",
        "  if abs(suma1) == 3:\n",
        "    return suma1/3\n",
        "  if abs(suma2) == 3:\n",
        "    return suma2/3\n",
        "  return 0"
      ],
      "execution_count": 4,
      "outputs": []
    },
    {
      "cell_type": "code",
      "metadata": {
        "id": "gVtmTXaYtYJe"
      },
      "source": [
        "# generar arreglo de estados siguientes para el estado actual según el jugador\n",
        "def generar_estados(estado, jugador):\n",
        "    nuevos = []\n",
        "    for i in range(3):\n",
        "      for j in range(3):\n",
        "        if estado.tablero[i][j] == 0:\n",
        "          tablero = deepcopy(estado.tablero)\n",
        "          tablero[i][j]=jugador\n",
        "          nuevos.append(Estado(tablero))\n",
        "    return nuevos    "
      ],
      "execution_count": 5,
      "outputs": []
    },
    {
      "cell_type": "code",
      "metadata": {
        "id": "ZIps92LTlUSl"
      },
      "source": [
        "def fmax(estado):\n",
        "    # si es estado final, retornar la utilidad para ese estado\n",
        "    if es_final(estado): \n",
        "      return utilidad(estado)\n",
        "    valor = -10000\n",
        "    # para cada estado siguiente:\n",
        "    for e in generar_estados(estado, jugador=COMPUTADOR):\n",
        "      valor = max(valor, fmin(e))\n",
        "    return valor"
      ],
      "execution_count": 6,
      "outputs": []
    },
    {
      "cell_type": "code",
      "metadata": {
        "id": "LL-Csp_XtYJj"
      },
      "source": [
        "def fmin(estado):\n",
        "     # si es estado final, retornar la utilidad para ese estado\n",
        "    if es_final(estado): \n",
        "      return utilidad(estado)\n",
        "    valor = 10000\n",
        "    # para cada estado siguiente:\n",
        "    for e in generar_estados(estado, jugador=HUMANO ):\n",
        "      valor = min(valor, fmax(e))\n",
        "    return valor"
      ],
      "execution_count": 7,
      "outputs": []
    },
    {
      "cell_type": "code",
      "metadata": {
        "id": "ajknuIiWtYJl"
      },
      "source": [
        "def decision_minimax(estado):\n",
        "    mejor_jugada = None\n",
        "    valor = -100000\n",
        "    for e in generar_estados(estado, jugador=COMPUTADOR):\n",
        "        maximo = fmin(e)\n",
        "        if  maximo > valor:\n",
        "            valor = maximo\n",
        "            mejor_jugada = e\n",
        "    return mejor_jugada, valor"
      ],
      "execution_count": 8,
      "outputs": []
    },
    {
      "cell_type": "code",
      "metadata": {
        "id": "ZABs70vqtYJn",
        "colab": {
          "base_uri": "https://localhost:8080/"
        },
        "outputId": "005ae000-6439-4aab-9285-345962a32fe0"
      },
      "source": [
        "actual = Estado(tablero = [[0,  0, 0], [0, -1, 0], [0, 0, 0]])\n",
        "print(actual)\n",
        "valor=0\n",
        "PC = True\n",
        "while not es_final(actual):\n",
        "  if PC:\n",
        "    actual, valor = decision_minimax(actual)\n",
        "  else:\n",
        "    x=input(\"x,y: \").split(\",\")\n",
        "    actual.tablero[int(x[0])][int(x[1])]=HUMANO\n",
        "  print(actual)\n",
        "  print(valor)\n",
        "  PC= not PC"
      ],
      "execution_count": 12,
      "outputs": [
        {
          "output_type": "stream",
          "text": [
            " │ │ \n",
            "─┼─┼─\n",
            " │O│ \n",
            "─┼─┼─\n",
            " │ │ \n",
            "\n",
            "\n",
            "X│ │ \n",
            "─┼─┼─\n",
            " │O│ \n",
            "─┼─┼─\n",
            " │ │ \n",
            "\n",
            "\n",
            "0\n",
            "x,y: 0,2\n",
            "X│ │O\n",
            "─┼─┼─\n",
            " │O│ \n",
            "─┼─┼─\n",
            " │ │ \n",
            "\n",
            "\n",
            "0\n",
            "X│ │O\n",
            "─┼─┼─\n",
            " │O│ \n",
            "─┼─┼─\n",
            "X│ │ \n",
            "\n",
            "\n",
            "0\n",
            "x,y: 1,0\n",
            "X│ │O\n",
            "─┼─┼─\n",
            "O│O│ \n",
            "─┼─┼─\n",
            "X│ │ \n",
            "\n",
            "\n",
            "0\n",
            "X│ │O\n",
            "─┼─┼─\n",
            "O│O│X\n",
            "─┼─┼─\n",
            "X│ │ \n",
            "\n",
            "\n",
            "0\n",
            "x,y: 1,1\n",
            "X│ │O\n",
            "─┼─┼─\n",
            "O│O│X\n",
            "─┼─┼─\n",
            "X│ │ \n",
            "\n",
            "\n",
            "0\n",
            "X│X│O\n",
            "─┼─┼─\n",
            "O│O│X\n",
            "─┼─┼─\n",
            "X│ │ \n",
            "\n",
            "\n",
            "0\n",
            "x,y: 2,1\n",
            "X│X│O\n",
            "─┼─┼─\n",
            "O│O│X\n",
            "─┼─┼─\n",
            "X│O│ \n",
            "\n",
            "\n",
            "0\n",
            "X│X│O\n",
            "─┼─┼─\n",
            "O│O│X\n",
            "─┼─┼─\n",
            "X│O│X\n",
            "\n",
            "\n",
            "0\n"
          ],
          "name": "stdout"
        }
      ]
    }
  ]
}