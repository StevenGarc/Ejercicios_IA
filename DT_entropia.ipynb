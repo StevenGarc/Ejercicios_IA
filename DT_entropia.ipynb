{
  "nbformat": 4,
  "nbformat_minor": 0,
  "metadata": {
    "colab": {
      "name": "DT entropia.ipynb",
      "provenance": [],
      "collapsed_sections": [],
      "authorship_tag": "ABX9TyOl3/SCNl5lQxvsT4YkS+jF",
      "include_colab_link": true
    },
    "kernelspec": {
      "name": "python3",
      "display_name": "Python 3"
    }
  },
  "cells": [
    {
      "cell_type": "markdown",
      "metadata": {
        "id": "view-in-github",
        "colab_type": "text"
      },
      "source": [
        "<a href=\"https://colab.research.google.com/github/StevenGarc/Ejercicios_IA/blob/master/DT_entropia.ipynb\" target=\"_parent\"><img src=\"https://colab.research.google.com/assets/colab-badge.svg\" alt=\"Open In Colab\"/></a>"
      ]
    },
    {
      "cell_type": "code",
      "metadata": {
        "id": "m44cDSA2vWO2"
      },
      "source": [
        "import pandas as pd\n",
        "import math"
      ],
      "execution_count": null,
      "outputs": []
    },
    {
      "cell_type": "code",
      "metadata": {
        "id": "iIFD3tcVwM4S",
        "colab": {
          "base_uri": "https://localhost:8080/",
          "height": 802
        },
        "outputId": "785e2370-fb6c-4c4a-d056-708dc8f284f5"
      },
      "source": [
        "age = [1,1,1,1,1,1,1,1,2,2,2,2,2,2,2,2,3,3,3,3,3,3,3,3]\n",
        "spec= [1,1,1,1,2,2,2,2,1,1,1,1,2,2,2,2,1,1,1,1,2,2,2,2]\n",
        "astig=[1,1,2,2,1,1,2,2,1,1,2,2,1,1,2,2,1,1,2,2,1,1,2,2]\n",
        "tears=[1,2,1,2,1,2,1,2,1,2,1,2,1,2,1,2,1,2,1,2,1,2,1,2]\n",
        "Class=[3,2,3,1,3,2,3,1,3,2,3,1,3,2,3,3,3,3,3,1,3,2,3,3]\n",
        "data = {'age': age, \n",
        "        'specRx':spec, \n",
        "        'asig':astig, \n",
        "        'tears':tears, \n",
        "        'Class':Class}\n",
        "df = pd.DataFrame(data)\n",
        "df"
      ],
      "execution_count": null,
      "outputs": [
        {
          "output_type": "execute_result",
          "data": {
            "text/html": [
              "<div>\n",
              "<style scoped>\n",
              "    .dataframe tbody tr th:only-of-type {\n",
              "        vertical-align: middle;\n",
              "    }\n",
              "\n",
              "    .dataframe tbody tr th {\n",
              "        vertical-align: top;\n",
              "    }\n",
              "\n",
              "    .dataframe thead th {\n",
              "        text-align: right;\n",
              "    }\n",
              "</style>\n",
              "<table border=\"1\" class=\"dataframe\">\n",
              "  <thead>\n",
              "    <tr style=\"text-align: right;\">\n",
              "      <th></th>\n",
              "      <th>age</th>\n",
              "      <th>specRx</th>\n",
              "      <th>asig</th>\n",
              "      <th>tears</th>\n",
              "      <th>Class</th>\n",
              "    </tr>\n",
              "  </thead>\n",
              "  <tbody>\n",
              "    <tr>\n",
              "      <th>0</th>\n",
              "      <td>1</td>\n",
              "      <td>1</td>\n",
              "      <td>1</td>\n",
              "      <td>1</td>\n",
              "      <td>3</td>\n",
              "    </tr>\n",
              "    <tr>\n",
              "      <th>1</th>\n",
              "      <td>1</td>\n",
              "      <td>1</td>\n",
              "      <td>1</td>\n",
              "      <td>2</td>\n",
              "      <td>2</td>\n",
              "    </tr>\n",
              "    <tr>\n",
              "      <th>2</th>\n",
              "      <td>1</td>\n",
              "      <td>1</td>\n",
              "      <td>2</td>\n",
              "      <td>1</td>\n",
              "      <td>3</td>\n",
              "    </tr>\n",
              "    <tr>\n",
              "      <th>3</th>\n",
              "      <td>1</td>\n",
              "      <td>1</td>\n",
              "      <td>2</td>\n",
              "      <td>2</td>\n",
              "      <td>1</td>\n",
              "    </tr>\n",
              "    <tr>\n",
              "      <th>4</th>\n",
              "      <td>1</td>\n",
              "      <td>2</td>\n",
              "      <td>1</td>\n",
              "      <td>1</td>\n",
              "      <td>3</td>\n",
              "    </tr>\n",
              "    <tr>\n",
              "      <th>5</th>\n",
              "      <td>1</td>\n",
              "      <td>2</td>\n",
              "      <td>1</td>\n",
              "      <td>2</td>\n",
              "      <td>2</td>\n",
              "    </tr>\n",
              "    <tr>\n",
              "      <th>6</th>\n",
              "      <td>1</td>\n",
              "      <td>2</td>\n",
              "      <td>2</td>\n",
              "      <td>1</td>\n",
              "      <td>3</td>\n",
              "    </tr>\n",
              "    <tr>\n",
              "      <th>7</th>\n",
              "      <td>1</td>\n",
              "      <td>2</td>\n",
              "      <td>2</td>\n",
              "      <td>2</td>\n",
              "      <td>1</td>\n",
              "    </tr>\n",
              "    <tr>\n",
              "      <th>8</th>\n",
              "      <td>2</td>\n",
              "      <td>1</td>\n",
              "      <td>1</td>\n",
              "      <td>1</td>\n",
              "      <td>3</td>\n",
              "    </tr>\n",
              "    <tr>\n",
              "      <th>9</th>\n",
              "      <td>2</td>\n",
              "      <td>1</td>\n",
              "      <td>1</td>\n",
              "      <td>2</td>\n",
              "      <td>2</td>\n",
              "    </tr>\n",
              "    <tr>\n",
              "      <th>10</th>\n",
              "      <td>2</td>\n",
              "      <td>1</td>\n",
              "      <td>2</td>\n",
              "      <td>1</td>\n",
              "      <td>3</td>\n",
              "    </tr>\n",
              "    <tr>\n",
              "      <th>11</th>\n",
              "      <td>2</td>\n",
              "      <td>1</td>\n",
              "      <td>2</td>\n",
              "      <td>2</td>\n",
              "      <td>1</td>\n",
              "    </tr>\n",
              "    <tr>\n",
              "      <th>12</th>\n",
              "      <td>2</td>\n",
              "      <td>2</td>\n",
              "      <td>1</td>\n",
              "      <td>1</td>\n",
              "      <td>3</td>\n",
              "    </tr>\n",
              "    <tr>\n",
              "      <th>13</th>\n",
              "      <td>2</td>\n",
              "      <td>2</td>\n",
              "      <td>1</td>\n",
              "      <td>2</td>\n",
              "      <td>2</td>\n",
              "    </tr>\n",
              "    <tr>\n",
              "      <th>14</th>\n",
              "      <td>2</td>\n",
              "      <td>2</td>\n",
              "      <td>2</td>\n",
              "      <td>1</td>\n",
              "      <td>3</td>\n",
              "    </tr>\n",
              "    <tr>\n",
              "      <th>15</th>\n",
              "      <td>2</td>\n",
              "      <td>2</td>\n",
              "      <td>2</td>\n",
              "      <td>2</td>\n",
              "      <td>3</td>\n",
              "    </tr>\n",
              "    <tr>\n",
              "      <th>16</th>\n",
              "      <td>3</td>\n",
              "      <td>1</td>\n",
              "      <td>1</td>\n",
              "      <td>1</td>\n",
              "      <td>3</td>\n",
              "    </tr>\n",
              "    <tr>\n",
              "      <th>17</th>\n",
              "      <td>3</td>\n",
              "      <td>1</td>\n",
              "      <td>1</td>\n",
              "      <td>2</td>\n",
              "      <td>3</td>\n",
              "    </tr>\n",
              "    <tr>\n",
              "      <th>18</th>\n",
              "      <td>3</td>\n",
              "      <td>1</td>\n",
              "      <td>2</td>\n",
              "      <td>1</td>\n",
              "      <td>3</td>\n",
              "    </tr>\n",
              "    <tr>\n",
              "      <th>19</th>\n",
              "      <td>3</td>\n",
              "      <td>1</td>\n",
              "      <td>2</td>\n",
              "      <td>2</td>\n",
              "      <td>1</td>\n",
              "    </tr>\n",
              "    <tr>\n",
              "      <th>20</th>\n",
              "      <td>3</td>\n",
              "      <td>2</td>\n",
              "      <td>1</td>\n",
              "      <td>1</td>\n",
              "      <td>3</td>\n",
              "    </tr>\n",
              "    <tr>\n",
              "      <th>21</th>\n",
              "      <td>3</td>\n",
              "      <td>2</td>\n",
              "      <td>1</td>\n",
              "      <td>2</td>\n",
              "      <td>2</td>\n",
              "    </tr>\n",
              "    <tr>\n",
              "      <th>22</th>\n",
              "      <td>3</td>\n",
              "      <td>2</td>\n",
              "      <td>2</td>\n",
              "      <td>1</td>\n",
              "      <td>3</td>\n",
              "    </tr>\n",
              "    <tr>\n",
              "      <th>23</th>\n",
              "      <td>3</td>\n",
              "      <td>2</td>\n",
              "      <td>2</td>\n",
              "      <td>2</td>\n",
              "      <td>3</td>\n",
              "    </tr>\n",
              "  </tbody>\n",
              "</table>\n",
              "</div>"
            ],
            "text/plain": [
              "    age  specRx  asig  tears  Class\n",
              "0     1       1     1      1      3\n",
              "1     1       1     1      2      2\n",
              "2     1       1     2      1      3\n",
              "3     1       1     2      2      1\n",
              "4     1       2     1      1      3\n",
              "5     1       2     1      2      2\n",
              "6     1       2     2      1      3\n",
              "7     1       2     2      2      1\n",
              "8     2       1     1      1      3\n",
              "9     2       1     1      2      2\n",
              "10    2       1     2      1      3\n",
              "11    2       1     2      2      1\n",
              "12    2       2     1      1      3\n",
              "13    2       2     1      2      2\n",
              "14    2       2     2      1      3\n",
              "15    2       2     2      2      3\n",
              "16    3       1     1      1      3\n",
              "17    3       1     1      2      3\n",
              "18    3       1     2      1      3\n",
              "19    3       1     2      2      1\n",
              "20    3       2     1      1      3\n",
              "21    3       2     1      2      2\n",
              "22    3       2     2      1      3\n",
              "23    3       2     2      2      3"
            ]
          },
          "metadata": {
            "tags": []
          },
          "execution_count": 2
        }
      ]
    },
    {
      "cell_type": "code",
      "metadata": {
        "id": "9RCIRwH9-rNf"
      },
      "source": [
        "def cal_entropia(df, clases):\n",
        "  \n",
        "  conteo = {}\n",
        "  total = 0\n",
        "  entropia_inicial = 0\n",
        "  entropias = {}\n",
        "  for index, row in df.iterrows():\n",
        "    c = row[clases]\n",
        "    conteo[c] = 1 if c not in conteo else conteo[c]+1\n",
        "    total+=1\n",
        "\n",
        "  for k, v in conteo.items():\n",
        "    p=v/total\n",
        "    entropia_inicial -= p* math.log(p,2)\n",
        "  \n",
        "  return entropia_inicial"
      ],
      "execution_count": null,
      "outputs": []
    },
    {
      "cell_type": "code",
      "metadata": {
        "id": "joj14WyOXdZB"
      },
      "source": [
        "def dividir(df, atributo):\n",
        "  sub_dataset = {}\n",
        "  aux_df = df[atributo]\n",
        "  aux_df = aux_df.drop_duplicates()\n",
        "  for i in aux_df:\n",
        "    col_i = df[df[atributo]==i]\n",
        "    sub_dataset[i]=col_i\n",
        "  return sub_dataset\n"
      ],
      "execution_count": null,
      "outputs": []
    },
    {
      "cell_type": "code",
      "metadata": {
        "id": "35udTBmgzhYc",
        "colab": {
          "base_uri": "https://localhost:8080/",
          "height": 34
        },
        "outputId": "95906885-3987-459c-86dc-0515980c951f"
      },
      "source": [
        "def gain (df, clases, entropia_inicial):\n",
        "  \n",
        "  entropias = {}\n",
        "  total = len(df)\n",
        "\n",
        "  for columna in df.columns:\n",
        "    if columna != clases:\n",
        "      aux_df = dividir(df, columna)\n",
        "      entropias[columna] = 0 \n",
        "      for k, i in aux_df.items():\n",
        "        E_i = cal_entropia(i, clases)\n",
        "        entropias[columna] += (len(i)/total) * E_i\n",
        "\n",
        "  gain = 0\n",
        "  atributo = clases\n",
        "\n",
        "  for k, v in entropias.items():\n",
        "    new_en = entropia_inicial - v\n",
        "    if gain <= new_en: \n",
        "      atributo = k\n",
        "      gain = new_en\n",
        "\n",
        "  return gain, atributo\n",
        "\n",
        "\n",
        "gain(df, 'Class', cal_entropia(df, 'Class'))"
      ],
      "execution_count": null,
      "outputs": [
        {
          "output_type": "execute_result",
          "data": {
            "text/plain": [
              "(0.5487949406953986, 'tears')"
            ]
          },
          "metadata": {
            "tags": []
          },
          "execution_count": 5
        }
      ]
    },
    {
      "cell_type": "code",
      "metadata": {
        "id": "DQnqqeQzW1BU"
      },
      "source": [
        "def tree(df, clases):\n",
        "  Tree = {}\n",
        "  entropia_inicial = cal_entropia(df, clases)\n",
        "  ganancia, atributo = gain(df, clases, entropia_inicial)\n",
        "  \n",
        "  Tree[atributo] = {}\n",
        "  for k, v in dividir(df, atributo).items():\n",
        "    Tree[atributo][k] = tree(v.drop([atributo], axis=1), clases) if cal_entropia(v, clases) != 0 else v['Class'].tolist()[0]\n",
        "\n",
        "  return Tree\n",
        "  "
      ],
      "execution_count": null,
      "outputs": []
    },
    {
      "cell_type": "code",
      "metadata": {
        "id": "bSJNR9qq4OyF"
      },
      "source": [
        "def evaluar(row, t):\n",
        "  while type(t)==dict:\n",
        "    n = list(t)[0] #atributo\n",
        "    t = t[n]\n",
        "    num = row[n] #numero\n",
        "    t = t[num]\n",
        "  return t\n",
        "      "
      ],
      "execution_count": null,
      "outputs": []
    },
    {
      "cell_type": "code",
      "metadata": {
        "id": "wNA5M6DkQJ8u",
        "colab": {
          "base_uri": "https://localhost:8080/",
          "height": 69
        },
        "outputId": "881ac54f-ec0f-4045-fdfe-c8963a1cb41f"
      },
      "source": [
        "t = tree(df, 'Class')\n",
        "t"
      ],
      "execution_count": null,
      "outputs": [
        {
          "output_type": "execute_result",
          "data": {
            "text/plain": [
              "{'tears': {1: 3,\n",
              "  2: {'asig': {1: {'age': {1: 2, 2: 2, 3: {'specRx': {1: 3, 2: 2}}}},\n",
              "    2: {'specRx': {1: 1, 2: {'age': {1: 1, 2: 3, 3: 3}}}}}}}}"
            ]
          },
          "metadata": {
            "tags": []
          },
          "execution_count": 8
        }
      ]
    },
    {
      "cell_type": "code",
      "metadata": {
        "id": "XVdrZEPe3u-t",
        "colab": {
          "base_uri": "https://localhost:8080/",
          "height": 434
        },
        "outputId": "126fd52a-9b5f-4923-bcd2-cc0974eaa7ee"
      },
      "source": [
        "for index, row in df.iterrows():\n",
        "  x = evaluar(row, t)\n",
        "  print(x, row['Class'])"
      ],
      "execution_count": null,
      "outputs": [
        {
          "output_type": "stream",
          "text": [
            "3 3\n",
            "2 2\n",
            "3 3\n",
            "1 1\n",
            "3 3\n",
            "2 2\n",
            "3 3\n",
            "1 1\n",
            "3 3\n",
            "2 2\n",
            "3 3\n",
            "1 1\n",
            "3 3\n",
            "2 2\n",
            "3 3\n",
            "3 3\n",
            "3 3\n",
            "3 3\n",
            "3 3\n",
            "1 1\n",
            "3 3\n",
            "2 2\n",
            "3 3\n",
            "3 3\n"
          ],
          "name": "stdout"
        }
      ]
    }
  ]
}