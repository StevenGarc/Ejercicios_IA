{
  "nbformat": 4,
  "nbformat_minor": 0,
  "metadata": {
    "colab": {
      "name": "ProblemaCanivales.ipynb",
      "provenance": [],
      "collapsed_sections": [],
      "authorship_tag": "ABX9TyMWnmih1/C7J0cF09M0cJgG",
      "include_colab_link": true
    },
    "kernelspec": {
      "name": "python3",
      "display_name": "Python 3"
    }
  },
  "cells": [
    {
      "cell_type": "markdown",
      "metadata": {
        "id": "view-in-github",
        "colab_type": "text"
      },
      "source": [
        "<a href=\"https://colab.research.google.com/github/StevenGarc/Ejercicios_IA/blob/master/ProblemaCanivales.ipynb\" target=\"_parent\"><img src=\"https://colab.research.google.com/assets/colab-badge.svg\" alt=\"Open In Colab\"/></a>"
      ]
    },
    {
      "cell_type": "code",
      "metadata": {
        "id": "pJ72OBDhkHtR"
      },
      "source": [
        "class Estado:\n",
        "  orilla = [3,3]\n",
        "  barca = True\n",
        "  estado_padre = None\n",
        "  def __init__ (self, orilla, barca, estado_padre):\n",
        "    self.orilla = orilla\n",
        "    self.barca = barca\n",
        "    self.estado_padre = estado_padre\n",
        "\n",
        "  def __str__(self):\n",
        "    r=\"\"\n",
        "    if self.barca:\n",
        "      r=(\"X\"*self.orilla[0])+(\"0\"*self.orilla[1])+\"B\"+\"/\"+(\"X\"*(3-self.orilla[0]))+(\"0\"*(3-self.orilla[1]))\n",
        "    else:\n",
        "      r=(\"X\"*self.orilla[0])+(\"0\"*self.orilla[1])+\"/\"+\"B\"+(\"X\"*(3-self.orilla[0]))+(\"0\"*(3-self.orilla[1]))\n",
        "    return r\n",
        "  \n",
        "  def __eq__(self, otro):\n",
        "    return ((otro.orilla==self.orilla) & (otro.barca == self.barca))\n",
        "\n",
        "  def generar_estados(self):\n",
        "    estados = []\n",
        "    posible_mov=[[1,1], [2,0], [0,2], [1,0], [0,1]]\n",
        "    for a in posible_mov:\n",
        "      #print(a)\n",
        "      if self.barca:\n",
        "        if ((self.orilla[0]-a[0])>=0) & ((self.orilla[1]-a[1])>=0):\n",
        "          e = Estado([self.orilla[0]-a[0],self.orilla[1]-a[1]], not self.barca, self)\n",
        "          if valido(e):\n",
        "            estados.append(e)\n",
        "\n",
        "      else:\n",
        "        if ((self.orilla[0]+a[0])<=3) & ((self.orilla[1]+a[1])<=3):\n",
        "          e = Estado([self.orilla[0]+a[0],self.orilla[1]+a[1]], not self.barca, self)\n",
        "          if valido(e):\n",
        "            estados.append(e)\n",
        "\n",
        "      #print(valido(e))\n",
        "      \n",
        "      #print(e)\n",
        "    return estados\n",
        "\n",
        "  \n",
        "\n"
      ],
      "execution_count": null,
      "outputs": []
    },
    {
      "cell_type": "code",
      "metadata": {
        "id": "7biO_6_SHNKU"
      },
      "source": [
        ""
      ],
      "execution_count": null,
      "outputs": []
    },
    {
      "cell_type": "code",
      "metadata": {
        "id": "bDzVpFUTHNk1"
      },
      "source": [
        "def valido(e):\n",
        "    r = True\n",
        "    if not (e.orilla[1]>=e.orilla[0]):\n",
        "      if not e.orilla[1]==0:\n",
        "        return False\n",
        "    if not (3-e.orilla[1]>=3-e.orilla[0]):\n",
        "      if not 3-e.orilla[1]==0:\n",
        "        return False\n",
        "    return True"
      ],
      "execution_count": null,
      "outputs": []
    },
    {
      "cell_type": "markdown",
      "metadata": {
        "id": "v2x8tphd6tT0"
      },
      "source": [
        "# Primero En Profundidad"
      ]
    },
    {
      "cell_type": "code",
      "metadata": {
        "id": "v2U4JquKnhyq",
        "colab": {
          "base_uri": "https://localhost:8080/",
          "height": 35
        },
        "outputId": "e1ea8202-db11-449e-8af4-1a270daef9b4"
      },
      "source": [
        "estado_inicia=Estado([3,3], True, None)\n",
        "estado_final = Estado([0, 0], False, None)\n",
        "Actual = estado_inicia\n",
        "visitados = []\n",
        "frontera = []\n",
        "while not Actual==estado_final:\n",
        "  \"\"\"\n",
        "  print(\"_______\")\n",
        "  print(Actual.estado_padre )\n",
        "  print(Actual)\n",
        "  print(\"++++++\")\n",
        "  \"\"\"\n",
        "  generados = Actual.generar_estados()\n",
        "  for estado in generados:\n",
        "    if not (estado in visitados):\n",
        "      frontera.append(estado)\n",
        "  visitados.append(Actual)\n",
        "  Actual = frontera.pop()\n",
        "\n",
        "\n",
        "print(Actual)\n"
      ],
      "execution_count": null,
      "outputs": [
        {
          "output_type": "stream",
          "text": [
            "/BXXX000\n"
          ],
          "name": "stdout"
        }
      ]
    },
    {
      "cell_type": "code",
      "metadata": {
        "id": "I2kJlJ8Q0O6s",
        "colab": {
          "base_uri": "https://localhost:8080/",
          "height": 237
        },
        "outputId": "726f55c6-7734-4d26-dfc9-5dfe0889f74b"
      },
      "source": [
        "print(Actual)\n",
        "while not Actual==estado_inicia:\n",
        "  Actual=Actual.estado_padre\n",
        "  print(Actual)"
      ],
      "execution_count": null,
      "outputs": [
        {
          "output_type": "stream",
          "text": [
            "/BXXX000\n",
            "X0B/XX00\n",
            "X/BXX000\n",
            "XXXB/000\n",
            "XX/BX000\n",
            "XX00B/X0\n",
            "X0/BXX00\n",
            "X000B/XX\n",
            "000/BXXX\n",
            "XX000B/X\n",
            "X000/BXX\n",
            "XXX000B/\n"
          ],
          "name": "stdout"
        }
      ]
    },
    {
      "cell_type": "markdown",
      "metadata": {
        "id": "I2MJ6RWg619z"
      },
      "source": [
        "# Primero En Anchura"
      ]
    },
    {
      "cell_type": "code",
      "metadata": {
        "id": "-8vCSnEWj75U",
        "colab": {
          "base_uri": "https://localhost:8080/",
          "height": 35
        },
        "outputId": "7dc5e9d5-db3d-41df-bab6-8fde7c1f0638"
      },
      "source": [
        "estado_inicia=Estado([3,3], True, None)\n",
        "estado_final = Estado([0, 0], False, None)\n",
        "Actual = estado_inicia\n",
        "visitados = []\n",
        "frontera = []\n",
        "while not Actual==estado_final:\n",
        "  \"\"\"\n",
        "  print(\"_______\")\n",
        "  print(Actual.estado_padre )\n",
        "  print(Actual)\n",
        "  print(\"++++++\")\n",
        "  \"\"\"\n",
        "  generados = Actual.generar_estados()\n",
        "  for estado in generados:\n",
        "    if not (estado in visitados):\n",
        "      frontera.append(estado)\n",
        "  visitados.append(Actual)\n",
        "  Actual = frontera.pop(0)\n",
        "\n",
        "\n",
        "print(Actual)\n"
      ],
      "execution_count": null,
      "outputs": [
        {
          "output_type": "stream",
          "text": [
            "/BXXX000\n"
          ],
          "name": "stdout"
        }
      ]
    },
    {
      "cell_type": "code",
      "metadata": {
        "id": "RO0JS5qYk3rQ",
        "colab": {
          "base_uri": "https://localhost:8080/",
          "height": 237
        },
        "outputId": "58dc44ec-586e-413f-d715-41dc274ccf38"
      },
      "source": [
        "print(Actual)\n",
        "while not Actual==estado_inicia:\n",
        "  Actual=Actual.estado_padre\n",
        "  print(Actual)"
      ],
      "execution_count": null,
      "outputs": [
        {
          "output_type": "stream",
          "text": [
            "/BXXX000\n",
            "XXB/X000\n",
            "X/BXX000\n",
            "XXXB/000\n",
            "XX/BX000\n",
            "XX00B/X0\n",
            "X0/BXX00\n",
            "X000B/XX\n",
            "000/BXXX\n",
            "XX000B/X\n",
            "XX00/BX0\n",
            "XXX000B/\n"
          ],
          "name": "stdout"
        }
      ]
    }
  ]
}