{
  "nbformat": 4,
  "nbformat_minor": 0,
  "metadata": {
    "colab": {
      "name": "TallerBusquedas.ipynb",
      "provenance": [],
      "collapsed_sections": [
        "ULXl-bLMo4pw",
        "KKQamXQFZ-Aw",
        "fA5sJEqYadEA",
        "HO52_EujumbF"
      ],
      "authorship_tag": "ABX9TyNdasOLpHJQxUnt7RnilcOO",
      "include_colab_link": true
    },
    "kernelspec": {
      "name": "python3",
      "display_name": "Python 3"
    }
  },
  "cells": [
    {
      "cell_type": "markdown",
      "metadata": {
        "id": "view-in-github",
        "colab_type": "text"
      },
      "source": [
        "<a href=\"https://colab.research.google.com/github/StevenGarc/Ejercicios_IA/blob/master/TallerBusquedas.ipynb\" target=\"_parent\"><img src=\"https://colab.research.google.com/assets/colab-badge.svg\" alt=\"Open In Colab\"/></a>"
      ]
    },
    {
      "cell_type": "markdown",
      "metadata": {
        "id": "ULXl-bLMo4pw"
      },
      "source": [
        "# Punto 2\n",
        "Desarrollar una función en Python que reciba un grafo, un nodo inicial y un nodo final y\n",
        "devuelva la ruta del nodo inicial al nodo final utilizando búsqueda primero en anchura.\n",
        "Se deben crear las clases Grafo y Nodo con sus respectivos métodos y atributos. La\n",
        "función debe retornar None en caso de que no haya ninguna ruta posible."
      ]
    },
    {
      "cell_type": "code",
      "metadata": {
        "id": "UTcHqyTpo8E0"
      },
      "source": [
        "class Grafo:\n",
        "  nodos = dict()\n",
        "  def __init__(self):\n",
        "    self.nodos = dict()\n",
        "\n",
        "  def agregar_nodo(self, Nombre, Conexiones=[]):\n",
        "    if not Nombre in self.nodos:\n",
        "      self.nodos[Nombre] = Conexiones\n",
        "    else:\n",
        "      self.nodos[Nombre].extend([i for i in Conexiones if i not in self.nodos[Nombre]])\n",
        "    for nodo in Conexiones:\n",
        "      if nodo in self.nodos:\n",
        "        self.nodos[nodo].append(Nombre)\n",
        "      else:\n",
        "        self.nodos[nodo] = [Nombre]\n",
        "\n",
        "  def agregar_conexion(self, nodo_origen, nodo_destino):\n",
        "    if nodo_origen in self.nodos:\n",
        "      if not nodo_destino in nodos[nodo_origen]:\n",
        "        self.nodos[nodo_origen].append(nodo_destino)\n",
        "        self.nodos[nodo_destino].append(nodo_origen)\n",
        "    else:\n",
        "      self.nodos[nodo_origen] = [nodo_destino]\n",
        "      self.nodos[nodo_destino] = [nodo_origen]\n",
        "\n",
        "  def __str__(self):\n",
        "    st=\"\"\n",
        "    for nombre, conexion in self.nodos.items():\n",
        "      st = st + nombre + \":\" + str(conexion)\n",
        "      st = st + \"\\n\"\n",
        "    return st"
      ],
      "execution_count": null,
      "outputs": []
    },
    {
      "cell_type": "code",
      "metadata": {
        "id": "uTFxA3aMLDzS"
      },
      "source": [
        "class estado:\n",
        "  padre = \"\"\n",
        "  nodo = \"\"\n",
        "  def __init__(self, nodo, padre = None):\n",
        "    self.nodo = nodo\n",
        "    self.padre = padre\n",
        "  \n",
        "  def generar_estados(self, grafo):\n",
        "    estados = []\n",
        "    for n in grafo.nodos[self.nodo]:\n",
        "      estados.append(estado(n,self))\n",
        "    return estados\n",
        "\n",
        "  def __eq__(self, otro):\n",
        "    return self.nodo == otro.nodo\n",
        "\n",
        "  def __str__(self):\n",
        "    return self.nodo"
      ],
      "execution_count": null,
      "outputs": []
    },
    {
      "cell_type": "markdown",
      "metadata": {
        "id": "KKQamXQFZ-Aw"
      },
      "source": [
        "## Primero En Anchura"
      ]
    },
    {
      "cell_type": "code",
      "metadata": {
        "id": "Xoj0Rvvtv7Wu",
        "colab": {
          "base_uri": "https://localhost:8080/",
          "height": 164
        },
        "outputId": "c8d85452-96c1-48bb-d709-0f124f03f4ce"
      },
      "source": [
        "grafo = Grafo()\n",
        "grafo.agregar_nodo(\"Arad\", [\"B\", \"C\"])\n",
        "grafo.agregar_nodo(\"B\", [\"E\", \"D\"])\n",
        "grafo.agregar_nodo(\"C\", [\"E\"])\n",
        "grafo.agregar_nodo(\"D\", [\"F\", \"E\"])\n",
        "print(grafo)\n",
        "\n",
        "estado_inicial = estado(\"A\")\n",
        "estado_final = estado(\"F\")\n",
        "estado_actual = estado_inicial\n",
        "visitados = [estado_actual]\n",
        "frontera = []\n",
        "\n",
        "while estado_actual != estado_final:\n",
        "\n",
        "  for nodo in estado_actual.generar_estados(grafo):\n",
        "    if not nodo in visitados:\n",
        "      frontera.append(nodo)\n",
        "  if len(frontera) != 0:\n",
        "    estado_actual=frontera.pop(0)\n",
        "    visitados.append(estado_actual)\n",
        "  else:\n",
        "    print(\"No Hay Solución\")\n",
        "    estado_actual = None\n",
        "    break\n",
        "solucion = []\n",
        "while estado_actual:\n",
        "  solucion.append(estado_actual)\n",
        "  estado_actual=estado_actual.padre\n",
        "sol=\"\"\n",
        "for i in solucion[::-1]:\n",
        "  sol += str(i)+\" \"\n",
        "print(sol)"
      ],
      "execution_count": null,
      "outputs": [
        {
          "output_type": "stream",
          "text": [
            "A:['B', 'C']\n",
            "B:['A', 'E', 'D']\n",
            "C:['A', 'E']\n",
            "E:['B', 'C', 'D']\n",
            "D:['B', 'F', 'E']\n",
            "F:['D']\n",
            "\n",
            "A B D F \n"
          ],
          "name": "stdout"
        }
      ]
    },
    {
      "cell_type": "markdown",
      "metadata": {
        "id": "knHaXs6aaE7s"
      },
      "source": [
        "## Primero En Profundidad"
      ]
    },
    {
      "cell_type": "code",
      "metadata": {
        "id": "ITCHMCeIaLur",
        "colab": {
          "base_uri": "https://localhost:8080/",
          "height": 164
        },
        "outputId": "77f8fc94-7426-40e4-d921-4757a50dbcc9"
      },
      "source": [
        "grafo = Grafo()\n",
        "grafo.agregar_nodo(\"A\", [\"B\", \"C\"])\n",
        "grafo.agregar_nodo(\"B\", [\"E\", \"D\"])\n",
        "grafo.agregar_nodo(\"C\", [\"E\"])\n",
        "grafo.agregar_nodo(\"D\", [\"F\", \"E\"])\n",
        "print(grafo)\n",
        "\n",
        "estado_inicial = estado(\"A\")\n",
        "estado_final = estado(\"F\")\n",
        "estado_actual = estado_inicial\n",
        "visitados = [estado_actual]\n",
        "frontera = []\n",
        "\n",
        "while estado_actual != estado_final:\n",
        "\n",
        "  for nodo in estado_actual.generar_estados(grafo):\n",
        "    if not nodo in visitados:\n",
        "      frontera.append(nodo)\n",
        "  if len(frontera) != 0:\n",
        "    estado_actual=frontera.pop()\n",
        "    visitados.append(estado_actual)\n",
        "  else:\n",
        "    print(\"No Hay Solución\")\n",
        "    estado_actual = None\n",
        "    break\n",
        "solucion = []\n",
        "while estado_actual:\n",
        "  solucion.append(estado_actual)\n",
        "  estado_actual=estado_actual.padre\n",
        "sol=\"\"\n",
        "for i in solucion[::-1]:\n",
        "  sol += str(i)+\" \"\n",
        "print(sol)"
      ],
      "execution_count": null,
      "outputs": [
        {
          "output_type": "stream",
          "text": [
            "A:['B', 'C']\n",
            "B:['A', 'E', 'D']\n",
            "C:['A', 'E']\n",
            "E:['B', 'C', 'D']\n",
            "D:['B', 'F', 'E']\n",
            "F:['D']\n",
            "\n",
            "A C E D F \n"
          ],
          "name": "stdout"
        }
      ]
    },
    {
      "cell_type": "markdown",
      "metadata": {
        "id": "fA5sJEqYadEA"
      },
      "source": [
        "# Punto 3\n",
        "Desarrollar un programa en Python que solucione el problema del rompecabezas deslizante para 8 números utilizando búsqueda en anchura. El programa debe leer el estado inicial desde un archivo."
      ]
    },
    {
      "cell_type": "code",
      "metadata": {
        "id": "VIFdR4u2gb1g"
      },
      "source": [
        "\n",
        "class Tablero:\n",
        "  tablero = [[],[],[]]\n",
        "  vacio = None\n",
        "  def __init__ (self, tablero):\n",
        "    self.tablero=tablero\n",
        "    for i in range(3):\n",
        "      if \"-\" in  tablero[i]:\n",
        "        self.vacio = [i, tablero[i].index(\"-\")]\n",
        "  \n",
        "  def __eq__(self, otro):\n",
        "    return self.tablero==otro.tablero\n",
        "\n",
        "  def __str__(self):\n",
        "    s=\"\"\n",
        "    for i in self.tablero:\n",
        "      s+=str(i)+\"\\n\"\n",
        "    return s"
      ],
      "execution_count": null,
      "outputs": []
    },
    {
      "cell_type": "code",
      "metadata": {
        "id": "PBV19DrkiZuq"
      },
      "source": [
        "\n",
        "class Estado1:\n",
        "  actual = None\n",
        "  padre = None\n",
        "  def __init__(self, tablero, padre=None):\n",
        "    self.actual = tablero\n",
        "    self.padre = padre\n",
        "  \n",
        "  def generar_estados(self):\n",
        "    estados = []\n",
        "    posibles_mov =[ [0,1], [0,-1], [1,0], [-1,0] ]\n",
        "    vacio = self.actual.vacio\n",
        "    for i in posibles_mov:\n",
        "      aux1 = vacio[0] + i[0]\n",
        "      aux2 = vacio[1] + i[1]\n",
        "      if (aux1 < 3) & (aux1 >=0) & (aux2 < 3) & (aux2 >=0) :\n",
        "        nTablero=[[\"\",\"\",\"\"],[\"\",\"\",\"\"],[\"\",\"\",\"\"]]\n",
        "        for x in range(3):\n",
        "          for y in range(3):\n",
        "            nTablero[x][y] = self.actual.tablero[x][y] \n",
        "\n",
        "        #print(nTablero)\n",
        "        temp = nTablero[aux1][aux2]\n",
        "        #print(temp)\n",
        "        nTablero[aux1][aux2]=nTablero[vacio[0]][vacio[1]]\n",
        "        nTablero[vacio[0]][vacio[1]] = temp\n",
        "        nTablero =Tablero(nTablero)\n",
        "        estados.append(Estado1(nTablero, self))\n",
        "    return estados\n",
        "\n",
        "    def __str__(self):\n",
        "      print(\"ksdjvc\")\n",
        "      return str(self.actual)\n",
        "\n",
        "    def __eq__(self, otro):\n",
        "      print(\"sdfghjnk\")\n",
        "      return self.actual == otro.actual"
      ],
      "execution_count": null,
      "outputs": []
    },
    {
      "cell_type": "code",
      "metadata": {
        "id": "vjJDuC9Uj0Jq",
        "colab": {
          "base_uri": "https://localhost:8080/",
          "height": 531
        },
        "outputId": "8660cc59-d7cf-40d9-cfec-93a18a724c26"
      },
      "source": [
        "# archivo\n",
        "f = open ('inicial.txt','r')\n",
        "tablero = f.read().split()\n",
        "tablero = [i.split(\",\") for i in tablero]\n",
        "f.close()\n",
        "\n",
        "tablero_final = Tablero([['1', '2', '3'], ['8', '-', '4'], ['7', '6', '5']])\n",
        "tablero_inicial = Tablero(tablero)\n",
        "\n",
        "\n",
        "\n",
        "estado_inicial = Estado1(tablero_inicial)\n",
        "estado_final = Estado1(tablero_final)\n",
        "\n",
        "actual = estado_inicial\n",
        "visitados = []\n",
        "frontera = []\n",
        "\n",
        "\n",
        "\n",
        "while actual.actual!=estado_final.actual:\n",
        "  visitados.append(actual.actual)\n",
        "  for i in actual.generar_estados():\n",
        "    if not i.actual in visitados:\n",
        "      frontera.append(i)\n",
        "  actual= frontera.pop(0)\n",
        "\n",
        "while actual:\n",
        "  print(actual.actual)\n",
        "  actual=actual.padre\n",
        "#5,4,-\n",
        "#6,1,8\n",
        "#7,3,2"
      ],
      "execution_count": null,
      "outputs": [
        {
          "output_type": "stream",
          "text": [
            "['1', '2', '3']\n",
            "['8', '-', '4']\n",
            "['7', '6', '5']\n",
            "\n",
            "['1', '-', '3']\n",
            "['8', '2', '4']\n",
            "['7', '6', '5']\n",
            "\n",
            "['1', '3', '-']\n",
            "['8', '2', '4']\n",
            "['7', '6', '5']\n",
            "\n",
            "['1', '3', '4']\n",
            "['8', '2', '-']\n",
            "['7', '6', '5']\n",
            "\n",
            "['1', '3', '4']\n",
            "['8', '-', '2']\n",
            "['7', '6', '5']\n",
            "\n",
            "['1', '3', '4']\n",
            "['-', '8', '2']\n",
            "['7', '6', '5']\n",
            "\n",
            "['1', '3', '4']\n",
            "['7', '8', '2']\n",
            "['-', '6', '5']\n",
            "\n"
          ],
          "name": "stdout"
        }
      ]
    },
    {
      "cell_type": "markdown",
      "metadata": {
        "id": "HO52_EujumbF"
      },
      "source": [
        "# Punto 4\n",
        "Desarrollar un programa en Python que encuentre la ruta de salida en un laberinto\n",
        "representado por una matriz de 0 y 1. Un 0 significa que se puede pasar por esa casilla\n",
        "un 1 representa que hay pared en dicha casilla y 2 que es la salida. El programa debe\n",
        "leer la configuración del laberinto desde un archivo, solicitar al usuario el estado inicial\n",
        "y dibujar el laberinto con la ruta de salida."
      ]
    },
    {
      "cell_type": "code",
      "metadata": {
        "id": "oXfzP660w9-R"
      },
      "source": [
        "0,1,1,1,1,1,0,0,0,0\n",
        "0,0,0,0,0,1,0,1,0,0\n",
        "0,0,0,1,0,1,0,0,0,0\n",
        "0,1,0,1,0,1,0,1,1,0\n",
        "0,1,0,1,0,1,0,1,0,0\n",
        "0,1,1,1,0,1,0,1,0,1\n",
        "0,1,0,0,0,1,0,1,0,1\n",
        "0,1,0,1,1,1,0,1,0,0\n",
        "1,0,0,0,0,0,0,1,0,0\n",
        "0,0,0,0,1,1,1,1,0,0"
      ],
      "execution_count": null,
      "outputs": []
    },
    {
      "cell_type": "code",
      "metadata": {
        "id": "9iMXyaWzw_e5"
      },
      "source": [
        "import copy \n",
        "class laberinto:\n",
        "  mapa = []\n",
        "  ubicacion = []\n",
        "  def __init__(self, ubicacion = [0,0], mapa=[]):\n",
        "    self.mapa = mapa\n",
        "    self.ubicacion = ubicacion\n",
        "\n",
        "  def validar_pos (self, New_pos):\n",
        "    limites = [len(self.mapa), len(self.mapa[0])] \n",
        "    if New_pos[0]>=0 and New_pos[0]<limites[0] and New_pos[1]>=0 and New_pos[1]<limites[1]:\n",
        "      return self.mapa[New_pos[0]][New_pos[1]] != \"1\"\n",
        "    return False\n",
        "\n",
        "class estado:\n",
        "  estado_padre = None\n",
        "  estado_actual = None\n",
        "\n",
        "  def __init__(self, estado_actual, estado_padre=None):\n",
        "    self.estado_actual= estado_actual\n",
        "    self.estado_padre= estado_padre\n",
        "  \n",
        "  def __eq__ (self, otro):\n",
        "    return self.estado_actual == otro.estado_actual\n",
        "\n",
        "  def generar_estados(self):\n",
        "    estados = []\n",
        "    posibles_mov =[ [0,1], [0,-1], [1,0], [-1,0] ]\n",
        "    for x in posibles_mov:\n",
        "      Now_pos = self.estado_actual\n",
        "      New_pos = [Now_pos[0]+x[0], Now_pos[1]+x[1]] \n",
        "      estados.append(estado(New_pos, self))\n",
        "    return estados\n",
        "\n",
        "def imprimir(estado, mapa):\n",
        "  m = copy.deepcopy(mapa.mapa)\n",
        "  m [estado.estado_actual[0]][estado.estado_actual[1]]=\"+\"\n",
        "  for n in m :\n",
        "    print(n)\n"
      ],
      "execution_count": null,
      "outputs": []
    },
    {
      "cell_type": "code",
      "metadata": {
        "id": "66wlVjOYzJM-",
        "colab": {
          "base_uri": "https://localhost:8080/",
          "height": 201
        },
        "outputId": "8c56f31e-e6f3-41ec-f03e-8480d5212706"
      },
      "source": [
        "f = open ('mapa.txt','r')\n",
        "mapa = f.read().split()\n",
        "mapa = [i.split(\",\") for i in mapa]\n",
        "\n",
        "f.close()\n",
        "labe = laberinto([0,0], mapa)\n",
        "inicial = estado([0,0])\n",
        "final = estado([len(mapa)-1, len(mapa[0])-1])\n",
        "actual = inicial\n",
        "visitados = []\n",
        "frontera = []\n",
        "while actual != final:\n",
        "  visitados.append(actual)\n",
        "  for i in actual.generar_estados():\n",
        "    if not i in visitados:\n",
        "      if labe.validar_pos(i.estado_actual):\n",
        "        frontera.append(i)\n",
        "        #print(i.estado_actual)\n",
        "  actual= frontera.pop()\n",
        "\n",
        "while actual:\n",
        "  #imprimir(actual, labe)\n",
        "  aux=actual.estado_actual\n",
        "  mapa[aux[0]][aux[1]]=\"♦\"\n",
        "  #print(actual.estado_actual)\n",
        "  actual= actual.estado_padre\n",
        "\n",
        "for x in mapa:\n",
        "  print(x)"
      ],
      "execution_count": null,
      "outputs": [
        {
          "output_type": "stream",
          "text": [
            "['♦', '1', '1', '1', '1', '1', '♦', '♦', '♦', '0']\n",
            "['♦', '♦', '♦', '♦', '♦', '1', '♦', '1', '♦', '0']\n",
            "['♦', '♦', '0', '1', '♦', '1', '♦', '0', '♦', '♦']\n",
            "['0', '1', '0', '1', '♦', '1', '♦', '1', '1', '♦']\n",
            "['0', '1', '0', '1', '♦', '1', '♦', '1', '♦', '♦']\n",
            "['0', '1', '1', '1', '♦', '1', '♦', '1', '♦', '1']\n",
            "['0', '1', '♦', '♦', '♦', '1', '♦', '1', '♦', '1']\n",
            "['0', '1', '♦', '1', '1', '1', '♦', '1', '♦', '0']\n",
            "['1', '0', '♦', '♦', '♦', '♦', '♦', '1', '♦', '0']\n",
            "['0', '0', '♦', '♦', '1', '1', '1', '1', '♦', '♦']\n"
          ],
          "name": "stdout"
        }
      ]
    }
  ]
}