{
  "nbformat": 4,
  "nbformat_minor": 0,
  "metadata": {
    "colab": {
      "name": "Hill-climbing.ipynb",
      "provenance": [],
      "collapsed_sections": [],
      "authorship_tag": "ABX9TyOgVlNGwFu361yYp8G9VIcV",
      "include_colab_link": true
    },
    "kernelspec": {
      "name": "python3",
      "display_name": "Python 3"
    }
  },
  "cells": [
    {
      "cell_type": "markdown",
      "metadata": {
        "id": "view-in-github",
        "colab_type": "text"
      },
      "source": [
        "<a href=\"https://colab.research.google.com/github/StevenGarc/Ejercicios_IA/blob/master/Hill_climbing.ipynb\" target=\"_parent\"><img src=\"https://colab.research.google.com/assets/colab-badge.svg\" alt=\"Open In Colab\"/></a>"
      ]
    },
    {
      "cell_type": "code",
      "metadata": {
        "id": "-PpMibSXyRv-"
      },
      "source": [
        "from copy import deepcopy\n",
        "from random import seed\n",
        "from random import randrange"
      ],
      "execution_count": null,
      "outputs": []
    },
    {
      "cell_type": "code",
      "metadata": {
        "id": "r0aIgBwRN9Sy"
      },
      "source": [
        "class estado(object):\n",
        " \n",
        "  def __init__(self, tablero = [[1,1,1,1],[0,0,0,0],[0,0,0,0],[0,0,0,0]]):\n",
        "    self.tablero=tablero\n",
        "   \n",
        "  def __str__(self):\n",
        "    s = \"\"\n",
        "    for i in self.tablero:\n",
        "      s+=str(i)+\"\\n\" \n",
        "    return s\n"
      ],
      "execution_count": null,
      "outputs": []
    },
    {
      "cell_type": "code",
      "metadata": {
        "id": "hAPMinjrvAL8"
      },
      "source": [
        "def utilidad(estado):\n",
        "    cont=0\n",
        "    for i in range(len(estado.tablero)):\n",
        "      for j in range(len(estado.tablero)):\n",
        "        \n",
        "        for x in range(len(estado.tablero)):\n",
        "          if estado.tablero[i][j] != 0:\n",
        "            if x != i:\n",
        "              cont += estado.tablero[x][j]\n",
        "            if x != j:\n",
        "              cont += estado.tablero[i][x]\n",
        "            \n",
        "            sum = abs(i+j)\n",
        "            if (sum - x) >= 0 and (sum - x) <  len(estado.tablero):\n",
        "              if [x, sum - x] != [i,j]:\n",
        "                #print(\"actual: \", [i,j], \"Este\", [x, sum - x], \"=\", estado.tablero[x][sum - x])\n",
        "                cont += estado.tablero[x][sum - x]\n",
        "            dif = i-j\n",
        "            if (x - dif) >= 0 and (x - dif) < len(estado.tablero):\n",
        "              if [x, x - dif] != [i,j]:\n",
        "                #print(\"actual: \", [i,j], \"Este\", [x, x - dif], \"=\", estado.tablero[x][x - dif])\n",
        "                cont += estado.tablero[x][x - dif]\n",
        "    return cont"
      ],
      "execution_count": null,
      "outputs": []
    },
    {
      "cell_type": "code",
      "metadata": {
        "id": "19qUCKqyvhW6"
      },
      "source": [
        "def generar_estados(e):\n",
        "  nuevos = []\n",
        "  for i in range(len(e.tablero)-1):\n",
        "    for j in range(len(e.tablero)):\n",
        "      if e.tablero[i][j] == 1 and e.tablero[i+1][j] == 0:\n",
        "        nuevo =  deepcopy(e.tablero)\n",
        "        nuevo[i][j] = 0\n",
        "        nuevo[i+1][j] = 1\n",
        "        nuevos.append(estado(nuevo))\n",
        "\n",
        "  for i in range(len(e.tablero)):\n",
        "    for j in range(len(e.tablero)):\n",
        "      if e.tablero[-i][j] == 1 and e.tablero[-(i+1)][j] == 0:\n",
        "        nuevo =  deepcopy(e.tablero)\n",
        "        nuevo[-i][j] = 0\n",
        "        nuevo[-(i+1)][j] = 1\n",
        "        nuevos.append(estado(nuevo))\n",
        "  return nuevos"
      ],
      "execution_count": null,
      "outputs": []
    },
    {
      "cell_type": "code",
      "metadata": {
        "id": "oY7Tdx2Bz-rZ"
      },
      "source": [
        "def generar_estado(e):\n",
        "  t = deepcopy(e.tablero)\n",
        "  rand = randrange(len(t))\n",
        "  mover = [-1,1][randrange(2)]\n",
        "  for i in range(len(t)):\n",
        "    if t[i][rand] == 1:\n",
        "      t[(i+mover)%len(t)][rand] = 1\n",
        "      t[i][rand] = 0\n",
        "      return estado(t)\n"
      ],
      "execution_count": null,
      "outputs": []
    },
    {
      "cell_type": "code",
      "metadata": {
        "id": "Wbv_d66m8ZLx"
      },
      "source": [
        "def generar_aleatorio(e):\n",
        "  x = len(e.tablero)\n",
        "  t = []\n",
        "  for i in range(x):\n",
        "    c = []\n",
        "    for j in range(x):\n",
        "      c.append(0)\n",
        "    t.append(c)\n",
        "\n",
        "  rand = []\n",
        "  for i in t:\n",
        "    rand.append(randrange(x))\n",
        "  for i in range(x):\n",
        "    t[rand[i]][i] = 1\n",
        "    \n",
        "  return estado(t)"
      ],
      "execution_count": null,
      "outputs": []
    },
    {
      "cell_type": "code",
      "metadata": {
        "id": "rzFxDoRly5PZ"
      },
      "source": [
        "def hill_climbing(inicial, iteraciones):\n",
        "  Utilidad_ini = utilidad(inicial)\n",
        "  Utilidad = Utilidad_ini\n",
        "  ite = 0\n",
        "  for i in range(iteraciones):\n",
        "    ite+=1\n",
        "    for e in generar_estados(inicial):\n",
        "      v =  utilidad(e)\n",
        "      if v <= Utilidad:\n",
        "        inicial = e\n",
        "        Utilidad = v\n",
        "        if Utilidad == 0: return ite, Utilidad, inicial\n",
        "\n",
        "  return ite, Utilidad, inicial\n"
      ],
      "execution_count": null,
      "outputs": []
    },
    {
      "cell_type": "code",
      "metadata": {
        "id": "gcHGT2Ig8-n2"
      },
      "source": [
        "def Stochastic_hill_climbing(inicial, iteraciones):\n",
        "  Utilidad_ini = utilidad(inicial)\n",
        "  Utilidad = Utilidad_ini\n",
        "  ite = 0\n",
        "  for i in range(iteraciones):\n",
        "    ite+=1\n",
        "    pocibles = []\n",
        "    for e in generar_estados(inicial):\n",
        "      v =  utilidad(e)\n",
        "      if v <= Utilidad:\n",
        "        pocibles.append(e)\n",
        "    if len(pocibles) != 0:\n",
        "      rand = randrange(len(pocibles))\n",
        "      inicial = pocibles[rand]\n",
        "      Utilidad = utilidad(inicial)\n",
        "      if Utilidad == 0: return ite, Utilidad, inicial\n",
        "  return ite, Utilidad, inicial"
      ],
      "execution_count": null,
      "outputs": []
    },
    {
      "cell_type": "code",
      "metadata": {
        "id": "wiR9uaZ7zTHy"
      },
      "source": [
        "def First_choice_hill_climbing(inicial, iteraciones):\n",
        "  ite = 0\n",
        "  for i in range(iteraciones):\n",
        "    ite+=1\n",
        "    nuevo = generar_estado(inicial)\n",
        "    if utilidad(nuevo) <= utilidad(inicial):\n",
        "      inicial = nuevo \n",
        "      Utilidad = utilidad(inicial)\n",
        "      if Utilidad == 0: return ite, Utilidad, inicial\n",
        "  return ite, utilidad(inicial), inicial"
      ],
      "execution_count": null,
      "outputs": []
    },
    {
      "cell_type": "code",
      "metadata": {
        "id": "kx56l-ZrAhUi"
      },
      "source": [
        "def Random_restart_hill(inicial, iteraciones):\n",
        "  ite = 0\n",
        "  for i in range(iteraciones):\n",
        "    ite += 1\n",
        "    nuevo = generar_aleatorio(inicial)\n",
        "    k, v, nuevo = hill_climbing(nuevo, 5)\n",
        "    if v <= utilidad(inicial):\n",
        "      inicial = nuevo\n",
        "      Utilidad = utilidad(inicial)\n",
        "      if Utilidad == 0: return ite, Utilidad, inicial\n",
        "  return ite, utilidad(inicial), inicial"
      ],
      "execution_count": null,
      "outputs": []
    },
    {
      "cell_type": "code",
      "metadata": {
        "id": "u7V-kA8EQmjp",
        "colab": {
          "base_uri": "https://localhost:8080/",
          "height": 937
        },
        "outputId": "43d34c07-968c-43b2-9955-046ef3e86c02"
      },
      "source": [
        "k=[[1, 1, 1, 1],\n",
        "  [0, 0, 0, 0],\n",
        "  [0, 0, 0, 0],\n",
        "  [0, 0, 0, 0]]\n",
        "k2 =        [[1,1,1,1,1,1,1,1],\n",
        "            [0,0,0,0,0,0,0,0],\n",
        "            [0,0,0,0,0,0,0,0],\n",
        "            [0,0,0,0,0,0,0,0],\n",
        "            [0,0,0,0,0,0,0,0],\n",
        "            [0,0,0,0,0,0,0,0],\n",
        "            [0,0,0,0,0,0,0,0],\n",
        "            [0,0,0,0,0,0,0,0]]\n",
        "x = 8\n",
        "\n",
        "t = [[1 for n in range(x)]]\n",
        "for i in range(1,x):\n",
        "  c = []\n",
        "  for j in range(x):\n",
        "    c.append(0)\n",
        "  t.append(c)\n",
        "\n",
        "s = estado(t)\n",
        "\n",
        "i = 10000\n",
        "fun = {\n",
        "    \"hill climbing\":hill_climbing,\n",
        "    \"Stochastic hill climbing:\": Stochastic_hill_climbing,\n",
        "    \"First-choice hill climbing:\": First_choice_hill_climbing,\n",
        "    \"Random restart hill:\": Random_restart_hill\n",
        "       }\n",
        "print(s)\n",
        "for k, f in fun.items():\n",
        "  print(k)\n",
        "  ite, v, e = f(s, i)\n",
        "  print(e)\n",
        "  print(\"iter: \",ite , \" valor:\", v)\n"
      ],
      "execution_count": null,
      "outputs": [
        {
          "output_type": "stream",
          "text": [
            "[1, 1, 1, 1, 1, 1, 1, 1]\n",
            "[0, 0, 0, 0, 0, 0, 0, 0]\n",
            "[0, 0, 0, 0, 0, 0, 0, 0]\n",
            "[0, 0, 0, 0, 0, 0, 0, 0]\n",
            "[0, 0, 0, 0, 0, 0, 0, 0]\n",
            "[0, 0, 0, 0, 0, 0, 0, 0]\n",
            "[0, 0, 0, 0, 0, 0, 0, 0]\n",
            "[0, 0, 0, 0, 0, 0, 0, 0]\n",
            "\n",
            "hill climbing\n",
            "[1, 1, 0, 0, 0, 0, 0, 0]\n",
            "[0, 0, 0, 1, 0, 0, 0, 1]\n",
            "[0, 0, 0, 0, 0, 1, 0, 0]\n",
            "[0, 0, 0, 0, 0, 0, 0, 0]\n",
            "[0, 0, 0, 0, 0, 0, 0, 0]\n",
            "[0, 0, 0, 0, 0, 0, 0, 0]\n",
            "[0, 0, 0, 0, 1, 0, 0, 0]\n",
            "[0, 0, 1, 0, 0, 0, 1, 0]\n",
            "\n",
            "iter:  10000  valor: 6\n",
            "Stochastic hill climbing:\n",
            "[0, 1, 0, 0, 0, 0, 0, 0]\n",
            "[0, 0, 0, 0, 1, 0, 0, 0]\n",
            "[0, 0, 0, 0, 0, 0, 0, 0]\n",
            "[0, 0, 0, 0, 0, 0, 0, 0]\n",
            "[0, 0, 1, 0, 0, 0, 0, 0]\n",
            "[0, 0, 0, 1, 0, 0, 0, 0]\n",
            "[0, 0, 0, 0, 0, 1, 1, 0]\n",
            "[1, 0, 0, 0, 0, 0, 0, 1]\n",
            "\n",
            "iter:  10000  valor: 8\n",
            "First-choice hill climbing:\n",
            "[0, 0, 0, 0, 1, 0, 1, 0]\n",
            "[0, 1, 0, 0, 0, 0, 0, 0]\n",
            "[0, 0, 0, 1, 0, 0, 0, 0]\n",
            "[1, 0, 0, 0, 0, 0, 0, 0]\n",
            "[0, 0, 0, 0, 0, 0, 0, 1]\n",
            "[0, 0, 0, 0, 0, 0, 0, 0]\n",
            "[0, 0, 1, 0, 0, 0, 0, 0]\n",
            "[0, 0, 0, 0, 0, 1, 0, 0]\n",
            "\n",
            "iter:  10000  valor: 2\n",
            "Random restart hill:\n",
            "[0, 0, 0, 0, 1, 0, 0, 0]\n",
            "[1, 0, 0, 0, 0, 0, 0, 0]\n",
            "[0, 0, 0, 0, 0, 0, 0, 1]\n",
            "[0, 0, 0, 0, 0, 1, 0, 0]\n",
            "[0, 0, 1, 0, 0, 0, 0, 0]\n",
            "[0, 0, 0, 0, 0, 0, 1, 0]\n",
            "[0, 1, 0, 0, 0, 0, 0, 0]\n",
            "[0, 0, 0, 1, 0, 0, 0, 0]\n",
            "\n",
            "iter:  69  valor: 0\n"
          ],
          "name": "stdout"
        }
      ]
    }
  ]
}