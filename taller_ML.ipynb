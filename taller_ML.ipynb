{
  "nbformat": 4,
  "nbformat_minor": 0,
  "metadata": {
    "colab": {
      "name": "taller_ML",
      "provenance": [],
      "collapsed_sections": [
        "rtCpOUEZZNc2"
      ],
      "authorship_tag": "ABX9TyONiLUZltc4HA8JxFnQpMlj",
      "include_colab_link": true
    },
    "kernelspec": {
      "name": "python3",
      "display_name": "Python 3"
    }
  },
  "cells": [
    {
      "cell_type": "markdown",
      "metadata": {
        "id": "view-in-github",
        "colab_type": "text"
      },
      "source": [
        "<a href=\"https://colab.research.google.com/github/StevenGarc/Ejercicios_IA/blob/master/taller_ML.ipynb\" target=\"_parent\"><img src=\"https://colab.research.google.com/assets/colab-badge.svg\" alt=\"Open In Colab\"/></a>"
      ]
    },
    {
      "cell_type": "markdown",
      "metadata": {
        "id": "rtCpOUEZZNc2"
      },
      "source": [
        "# Punto 1 "
      ]
    },
    {
      "cell_type": "markdown",
      "metadata": {
        "id": "HDh3CMOJYPEc"
      },
      "source": [
        "\n",
        "Para cada uno de los siguientes problemas indicar si es un problema de clasificación o de regresión:\n",
        "\n",
        "  a) Predecir la temperatura promedio de la próxima semana => **Regresión**\n",
        "\n",
        "  b) Predecir si mañana va a llover o no => **Clasificación**\n",
        "\n",
        "  c) Determinar si un correo es spam o no spam => **Clasificación**\n",
        "\n",
        "  d) Determinar a que tema pertenece un documento => **Clasificación**\n",
        "\n",
        "  e) Determinar qué objetos hay en una imagen => **Clasificación**\n",
        "\n",
        "  f) Determinar el precio de las acciones de Google el dia de mañana => **Regresión**"
      ]
    },
    {
      "cell_type": "markdown",
      "metadata": {
        "id": "NEvnIkMAZTBY"
      },
      "source": [
        "# Punto 2"
      ]
    },
    {
      "cell_type": "markdown",
      "metadata": {
        "id": "IT2LnL6SZW-X"
      },
      "source": [
        "2) Dado el siguiente Dataset que contiene los precios de las casas según el área:"
      ]
    },
    {
      "cell_type": "code",
      "metadata": {
        "id": "eb9R957MZkNG",
        "colab": {
          "base_uri": "https://localhost:8080/",
          "height": 238
        },
        "outputId": "38bac55f-5dda-4bf5-9fa0-224469a54d06"
      },
      "source": [
        "import numpy as np\n",
        "import pandas as pd\n",
        "df = pd.DataFrame({'Área':[20.2,30.1,40.2,49.9,70.1,90], 'Precio':[100,200,300,400,600,800]})\n",
        "df"
      ],
      "execution_count": null,
      "outputs": [
        {
          "output_type": "execute_result",
          "data": {
            "text/html": [
              "<div>\n",
              "<style scoped>\n",
              "    .dataframe tbody tr th:only-of-type {\n",
              "        vertical-align: middle;\n",
              "    }\n",
              "\n",
              "    .dataframe tbody tr th {\n",
              "        vertical-align: top;\n",
              "    }\n",
              "\n",
              "    .dataframe thead th {\n",
              "        text-align: right;\n",
              "    }\n",
              "</style>\n",
              "<table border=\"1\" class=\"dataframe\">\n",
              "  <thead>\n",
              "    <tr style=\"text-align: right;\">\n",
              "      <th></th>\n",
              "      <th>Área</th>\n",
              "      <th>Precio</th>\n",
              "    </tr>\n",
              "  </thead>\n",
              "  <tbody>\n",
              "    <tr>\n",
              "      <th>0</th>\n",
              "      <td>20.2</td>\n",
              "      <td>100</td>\n",
              "    </tr>\n",
              "    <tr>\n",
              "      <th>1</th>\n",
              "      <td>30.1</td>\n",
              "      <td>200</td>\n",
              "    </tr>\n",
              "    <tr>\n",
              "      <th>2</th>\n",
              "      <td>40.2</td>\n",
              "      <td>300</td>\n",
              "    </tr>\n",
              "    <tr>\n",
              "      <th>3</th>\n",
              "      <td>49.9</td>\n",
              "      <td>400</td>\n",
              "    </tr>\n",
              "    <tr>\n",
              "      <th>4</th>\n",
              "      <td>70.1</td>\n",
              "      <td>600</td>\n",
              "    </tr>\n",
              "    <tr>\n",
              "      <th>5</th>\n",
              "      <td>90.0</td>\n",
              "      <td>800</td>\n",
              "    </tr>\n",
              "  </tbody>\n",
              "</table>\n",
              "</div>"
            ],
            "text/plain": [
              "   Área  Precio\n",
              "0  20.2     100\n",
              "1  30.1     200\n",
              "2  40.2     300\n",
              "3  49.9     400\n",
              "4  70.1     600\n",
              "5  90.0     800"
            ]
          },
          "metadata": {
            "tags": []
          },
          "execution_count": 1
        }
      ]
    },
    {
      "cell_type": "markdown",
      "metadata": {
        "id": "9Du5gfhjGlbn"
      },
      "source": [
        "Grafique los datos"
      ]
    },
    {
      "cell_type": "code",
      "metadata": {
        "id": "HfR7ogfSr0RC",
        "colab": {
          "base_uri": "https://localhost:8080/",
          "height": 296
        },
        "outputId": "30b88356-3137-40f0-cf17-1821ca35e00d"
      },
      "source": [
        "import matplotlib.pyplot as plt\n",
        "plt.plot(df['Área'], df['Precio'])\n",
        "plt.grid(True)\n",
        "plt.xlabel('Área')\n",
        "plt.ylabel('Precio')\n"
      ],
      "execution_count": null,
      "outputs": [
        {
          "output_type": "execute_result",
          "data": {
            "text/plain": [
              "Text(0, 0.5, 'Precio')"
            ]
          },
          "metadata": {
            "tags": []
          },
          "execution_count": 2
        },
        {
          "output_type": "display_data",
          "data": {
            "image/png": "[encoded data removed]",
            "text/plain": [
              "<Figure size 432x288 with 1 Axes>"
            ]
          },
          "metadata": {
            "tags": [],
            "needs_background": "light"
          }
        }
      ]
    },
    {
      "cell_type": "markdown",
      "metadata": {
        "id": "9KKsazr2GhkK"
      },
      "source": [
        "Proponga dos modelos distintos para predecir el precio de una casa a partir del área.\n",
        "\n",
        "Primero: Modelo lineal\n",
        "segundo: Modelo exponencial"
      ]
    },
    {
      "cell_type": "code",
      "metadata": {
        "id": "xAl06LNV06-K"
      },
      "source": [
        "class modelo_lineal:\n",
        "  def __init__(self, df):\n",
        "    punto1 = [df['Área'][0], df['Precio'][0]]\n",
        "    punto2 = [df['Área'][len(df)-1], df['Precio'][len(df)-1]]\n",
        "    self.m = (punto2[1] - punto1[1])/(punto2[0] - punto1[0])\n",
        "    self.c = punto1[1] - (self.m * punto1[0])\n",
        "  \n",
        "  def evaluar(self, area):\n",
        "    return area*self.m+self.c\n"
      ],
      "execution_count": null,
      "outputs": []
    },
    {
      "cell_type": "code",
      "metadata": {
        "id": "7yqUsK0v2Cmr"
      },
      "source": [
        "class modelo_exponencial:\n",
        "  def __init__(self, df):\n",
        "    punto1 = [df['Área'][0], df['Precio'][0]]\n",
        "    punto2 = [df['Área'][len(df)-1], df['Precio'][len(df)-1]]\n",
        "    self.b = (punto2[1] / punto1[1])**(1/(punto2[0] - punto1[0]))\n",
        "    self.a = punto1[1]/(self.b**punto1[0])\n",
        "\n",
        "  def evaluar(self, area):\n",
        "    return self.a*(self.b**area)"
      ],
      "execution_count": null,
      "outputs": []
    },
    {
      "cell_type": "markdown",
      "metadata": {
        "id": "gckglNeOG_W_"
      },
      "source": [
        "Utilice el error cuadrático medio para determinar cuál es mejor.\n",
        "\n",
        "basado en el ECM el mejor modelo es el lineal"
      ]
    },
    {
      "cell_type": "code",
      "metadata": {
        "id": "7KHp2QCpDMxn"
      },
      "source": [
        "def error_cuadratico_medio(real, prediccion):\n",
        "    ECM = 0\n",
        "    n = len(real)\n",
        "    for y in range(n):\n",
        "      ECM +=  (prediccion[y]-real[y])**2\n",
        "    ECM*=1/n\n",
        "    return ECM\n"
      ],
      "execution_count": null,
      "outputs": []
    },
    {
      "cell_type": "code",
      "metadata": {
        "id": "CEoSqIhHaTzn"
      },
      "source": [
        "m1 = modelo_lineal(df)\n",
        "m2 = modelo_exponencial(df)"
      ],
      "execution_count": null,
      "outputs": []
    },
    {
      "cell_type": "code",
      "metadata": {
        "id": "0pK87hHm8aRS",
        "colab": {
          "base_uri": "https://localhost:8080/",
          "height": 295
        },
        "outputId": "d500b0cf-bda6-4c9c-af88-9cbd5fb598b1"
      },
      "source": [
        "resusltados_lineal = [m1.evaluar(m) for m in df['Área']]\n",
        "resultados_exponencial = [m2.evaluar(m) for m in df['Área']]\n",
        "\n",
        "ecm_linear = error_cuadratico_medio(df['Precio'],resusltados_lineal)\n",
        "ecm_exp = error_cuadratico_medio(df['Precio'],resultados_exponencial)\n",
        "\n",
        "p1 = plt.plot(df['Área'], df['Precio'])\n",
        "p2 = plt.plot(df['Área'], resusltados_lineal)\n",
        "p3 = plt.plot(df['Área'], resultados_exponencial)\n",
        "plt.grid(True)\n",
        "plt.legend(('Real', 'Lineal(EMC:{})'.format(ecm_linear), 'Exp(EMC:{})'.format(ecm_exp)))\n",
        "plt.xlabel('Área')\n",
        "plt.ylabel('Precio')\n",
        "plt.title('Resultados Modelos')\n",
        "plt.show()"
      ],
      "execution_count": null,
      "outputs": [
        {
          "output_type": "display_data",
          "data": {
            "image/png": "[encoded data removed]",
            "text/plain": [
              "<Figure size 432x288 with 1 Axes>"
            ]
          },
          "metadata": {
            "tags": [],
            "needs_background": "light"
          }
        }
      ]
    },
    {
      "cell_type": "markdown",
      "metadata": {
        "id": "SNwLKt7rHJor"
      },
      "source": [
        "# Punto 3"
      ]
    },
    {
      "cell_type": "markdown",
      "metadata": {
        "id": "nO7yI1_sHP0d"
      },
      "source": [
        "El siguiente dataset de entrenamiento contiene si un estudiante de IA aprobó o no la materia basado en\n",
        "las notas de programación y de intro a la ing:"
      ]
    },
    {
      "cell_type": "code",
      "metadata": {
        "id": "m7fiB_YqHPLX",
        "colab": {
          "base_uri": "https://localhost:8080/",
          "height": 363
        },
        "outputId": "0e9036c7-5f3f-4b45-d38c-def4389704be"
      },
      "source": [
        "programacion = [2.5,4,1,2,3.5,4,5,4,3.6,4.3]\n",
        "intro = [3.3,2.7,3,2,3.5,3.5,5,3.6,3.8,4.1]\n",
        "aprueva = [0,0,1,1,0,0,1,1,1,1]\n",
        "df = pd.DataFrame({'Nota Programación':programacion, 'Nota Intro. Ing':intro, 'Aprueba IA':aprueva})\n",
        "df"
      ],
      "execution_count": null,
      "outputs": [
        {
          "output_type": "execute_result",
          "data": {
            "text/html": [
              "<div>\n",
              "<style scoped>\n",
              "    .dataframe tbody tr th:only-of-type {\n",
              "        vertical-align: middle;\n",
              "    }\n",
              "\n",
              "    .dataframe tbody tr th {\n",
              "        vertical-align: top;\n",
              "    }\n",
              "\n",
              "    .dataframe thead th {\n",
              "        text-align: right;\n",
              "    }\n",
              "</style>\n",
              "<table border=\"1\" class=\"dataframe\">\n",
              "  <thead>\n",
              "    <tr style=\"text-align: right;\">\n",
              "      <th></th>\n",
              "      <th>Nota Programación</th>\n",
              "      <th>Nota Intro. Ing</th>\n",
              "      <th>Aprueba IA</th>\n",
              "    </tr>\n",
              "  </thead>\n",
              "  <tbody>\n",
              "    <tr>\n",
              "      <th>0</th>\n",
              "      <td>2.5</td>\n",
              "      <td>3.3</td>\n",
              "      <td>0</td>\n",
              "    </tr>\n",
              "    <tr>\n",
              "      <th>1</th>\n",
              "      <td>4.0</td>\n",
              "      <td>2.7</td>\n",
              "      <td>0</td>\n",
              "    </tr>\n",
              "    <tr>\n",
              "      <th>2</th>\n",
              "      <td>1.0</td>\n",
              "      <td>3.0</td>\n",
              "      <td>1</td>\n",
              "    </tr>\n",
              "    <tr>\n",
              "      <th>3</th>\n",
              "      <td>2.0</td>\n",
              "      <td>2.0</td>\n",
              "      <td>1</td>\n",
              "    </tr>\n",
              "    <tr>\n",
              "      <th>4</th>\n",
              "      <td>3.5</td>\n",
              "      <td>3.5</td>\n",
              "      <td>0</td>\n",
              "    </tr>\n",
              "    <tr>\n",
              "      <th>5</th>\n",
              "      <td>4.0</td>\n",
              "      <td>3.5</td>\n",
              "      <td>0</td>\n",
              "    </tr>\n",
              "    <tr>\n",
              "      <th>6</th>\n",
              "      <td>5.0</td>\n",
              "      <td>5.0</td>\n",
              "      <td>1</td>\n",
              "    </tr>\n",
              "    <tr>\n",
              "      <th>7</th>\n",
              "      <td>4.0</td>\n",
              "      <td>3.6</td>\n",
              "      <td>1</td>\n",
              "    </tr>\n",
              "    <tr>\n",
              "      <th>8</th>\n",
              "      <td>3.6</td>\n",
              "      <td>3.8</td>\n",
              "      <td>1</td>\n",
              "    </tr>\n",
              "    <tr>\n",
              "      <th>9</th>\n",
              "      <td>4.3</td>\n",
              "      <td>4.1</td>\n",
              "      <td>1</td>\n",
              "    </tr>\n",
              "  </tbody>\n",
              "</table>\n",
              "</div>"
            ],
            "text/plain": [
              "   Nota Programación  Nota Intro. Ing  Aprueba IA\n",
              "0                2.5              3.3           0\n",
              "1                4.0              2.7           0\n",
              "2                1.0              3.0           1\n",
              "3                2.0              2.0           1\n",
              "4                3.5              3.5           0\n",
              "5                4.0              3.5           0\n",
              "6                5.0              5.0           1\n",
              "7                4.0              3.6           1\n",
              "8                3.6              3.8           1\n",
              "9                4.3              4.1           1"
            ]
          },
          "metadata": {
            "tags": []
          },
          "execution_count": 8
        }
      ]
    },
    {
      "cell_type": "markdown",
      "metadata": {
        "id": "7Dxb6Xa7IsdN"
      },
      "source": [
        "¿Cuál podría ser la dimensión del vector de características?\n",
        "\n",
        "1. Nota Programacióón\n",
        "2. Nota Intro. Ing"
      ]
    },
    {
      "cell_type": "markdown",
      "metadata": {
        "id": "UFpUptCvI1zc"
      },
      "source": [
        "grafique las dos notas usando una símbolo diferente para indicar cada clase"
      ]
    },
    {
      "cell_type": "code",
      "metadata": {
        "id": "o7pmo95ZIqNB",
        "colab": {
          "base_uri": "https://localhost:8080/",
          "height": 295
        },
        "outputId": "724b4a05-a224-4f89-f550-5cf103bbb70d"
      },
      "source": [
        "pasan = df['Aprueba IA'] == 1\n",
        "p = df[pasan]\n",
        "\n",
        "pierden = df['Aprueba IA'] == 0\n",
        "pi = df[pierden]\n",
        "\n",
        "plt.scatter(p['Nota Programación'], p['Nota Intro. Ing'], s=50, c=['red' for j in p['Aprueba IA']], marker=\"D\")\n",
        "plt.scatter(pi['Nota Programación'], pi['Nota Intro. Ing'], s=50, c=['blue' for j in pi['Aprueba IA']], marker=\"D\")\n",
        "plt.xlabel('Nota Programacion')\n",
        "plt.ylabel('Nota Intro. Ing')\n",
        "plt.grid(True)\n",
        "plt.legend(('Pasa IA','Pierde IA'))\n",
        "plt.title('Notas')\n",
        "plt.show()"
      ],
      "execution_count": null,
      "outputs": [
        {
          "output_type": "display_data",
          "data": {
            "image/png": "[encoded data removed]",
            "text/plain": [
              "<Figure size 432x288 with 1 Axes>"
            ]
          },
          "metadata": {
            "tags": [],
            "needs_background": "light"
          }
        }
      ]
    },
    {
      "cell_type": "markdown",
      "metadata": {
        "id": "-alZewLFZcN9"
      },
      "source": [
        "dibuje la región de decisión."
      ]
    },
    {
      "cell_type": "code",
      "metadata": {
        "id": "wHimPx4vZbyr",
        "colab": {
          "base_uri": "https://localhost:8080/",
          "height": 295
        },
        "outputId": "9172f1ef-ab93-477d-9ad6-936a97525653"
      },
      "source": [
        "plt.scatter(p['Nota Programación'], p['Nota Intro. Ing'], s=50, c=['red' for j in p['Aprueba IA']], marker=\"D\")\n",
        "plt.scatter(pi['Nota Programación'], pi['Nota Intro. Ing'], s=50, c=['blue' for j in pi['Aprueba IA']], marker=\"D\")\n",
        "plt.xlabel('Nota Programacion')\n",
        "plt.ylabel('Nota Intro. Ing')\n",
        "plt.grid(True)\n",
        "plt.legend(('Pasa IA','Pierde IA'))\n",
        "plt.title('Notas')\n",
        "\n",
        "plt.broken_barh([(0,5)], (0, 5), facecolors='tab:red', alpha=0.3)\n",
        "plt.broken_barh([(2.4,2.6)], (0, 3.6), facecolors='tab:blue', alpha=0.3)\n",
        "\n",
        "\n",
        "plt.show()"
      ],
      "execution_count": null,
      "outputs": [
        {
          "output_type": "display_data",
          "data": {
            "image/png": "[encoded data removed]",
            "text/plain": [
              "<Figure size 432x288 with 1 Axes>"
            ]
          },
          "metadata": {
            "tags": [],
            "needs_background": "light"
          }
        }
      ]
    },
    {
      "cell_type": "code",
      "metadata": {
        "id": "v7TLJkXEWA1i"
      },
      "source": [
        "def modelo (programacion, intro):\n",
        "  if programacion >=2.5 and intro <=3.5:\n",
        "    return 0\n",
        "  return 1  "
      ],
      "execution_count": null,
      "outputs": []
    },
    {
      "cell_type": "code",
      "metadata": {
        "id": "ptKP_SKNc861",
        "colab": {
          "base_uri": "https://localhost:8080/",
          "height": 69
        },
        "outputId": "2cf5cfa3-e56f-4f5d-e035-39442d159b62"
      },
      "source": [
        "test_r= [0,1,0,1]\n",
        "test = [[2.5, 2.5],\n",
        "        [1.7, 1.5],\n",
        "        [3.9, 4.5],\n",
        "        [3.5, 4.5]]\n",
        "test_p=[]\n",
        "Accuracy=0\n",
        "for i in range(len(test_r)):\n",
        "  r = modelo(test[i][0], test[i][1])\n",
        "  Accuracy+=1 if r == test_r[i] else 0\n",
        "  test_p.append(r)\n",
        "print(test_r)\n",
        "print(test_p)\n",
        "Accuracy/=len(test_r)\n",
        "print('Accuracy', Accuracy)"
      ],
      "execution_count": null,
      "outputs": [
        {
          "output_type": "stream",
          "text": [
            "[0, 1, 0, 1]\n",
            "[0, 1, 1, 1]\n",
            "Accuracy 0.75\n"
          ],
          "name": "stdout"
        }
      ]
    },
    {
      "cell_type": "markdown",
      "metadata": {
        "id": "gQPsLlJ3R0fZ"
      },
      "source": [
        "# Punto 4"
      ]
    },
    {
      "cell_type": "markdown",
      "metadata": {
        "id": "UguCunFASAzy"
      },
      "source": [
        "Utilice Sklearn para encontrar un modelo de regresión lineal del punto 2 usando :"
      ]
    },
    {
      "cell_type": "code",
      "metadata": {
        "id": "9z1KgjjMRzk2"
      },
      "source": [
        "from sklearn.linear_model import LinearRegression\n",
        "from sklearn.metrics import mean_squared_error"
      ],
      "execution_count": null,
      "outputs": []
    },
    {
      "cell_type": "code",
      "metadata": {
        "id": "AswxE2krSPkQ",
        "colab": {
          "base_uri": "https://localhost:8080/",
          "height": 238
        },
        "outputId": "2def7823-eefc-4871-cb5b-4c22cfa14d30"
      },
      "source": [
        "df = pd.DataFrame({'Área':[20.2,30.1,40.2,49.9,70.1,90], 'Precio':[100,200,300,400,600,800]})\n",
        "df"
      ],
      "execution_count": null,
      "outputs": [
        {
          "output_type": "execute_result",
          "data": {
            "text/html": [
              "<div>\n",
              "<style scoped>\n",
              "    .dataframe tbody tr th:only-of-type {\n",
              "        vertical-align: middle;\n",
              "    }\n",
              "\n",
              "    .dataframe tbody tr th {\n",
              "        vertical-align: top;\n",
              "    }\n",
              "\n",
              "    .dataframe thead th {\n",
              "        text-align: right;\n",
              "    }\n",
              "</style>\n",
              "<table border=\"1\" class=\"dataframe\">\n",
              "  <thead>\n",
              "    <tr style=\"text-align: right;\">\n",
              "      <th></th>\n",
              "      <th>Área</th>\n",
              "      <th>Precio</th>\n",
              "    </tr>\n",
              "  </thead>\n",
              "  <tbody>\n",
              "    <tr>\n",
              "      <th>0</th>\n",
              "      <td>20.2</td>\n",
              "      <td>100</td>\n",
              "    </tr>\n",
              "    <tr>\n",
              "      <th>1</th>\n",
              "      <td>30.1</td>\n",
              "      <td>200</td>\n",
              "    </tr>\n",
              "    <tr>\n",
              "      <th>2</th>\n",
              "      <td>40.2</td>\n",
              "      <td>300</td>\n",
              "    </tr>\n",
              "    <tr>\n",
              "      <th>3</th>\n",
              "      <td>49.9</td>\n",
              "      <td>400</td>\n",
              "    </tr>\n",
              "    <tr>\n",
              "      <th>4</th>\n",
              "      <td>70.1</td>\n",
              "      <td>600</td>\n",
              "    </tr>\n",
              "    <tr>\n",
              "      <th>5</th>\n",
              "      <td>90.0</td>\n",
              "      <td>800</td>\n",
              "    </tr>\n",
              "  </tbody>\n",
              "</table>\n",
              "</div>"
            ],
            "text/plain": [
              "   Área  Precio\n",
              "0  20.2     100\n",
              "1  30.1     200\n",
              "2  40.2     300\n",
              "3  49.9     400\n",
              "4  70.1     600\n",
              "5  90.0     800"
            ]
          },
          "metadata": {
            "tags": []
          },
          "execution_count": 14
        }
      ]
    },
    {
      "cell_type": "code",
      "metadata": {
        "id": "dp1jXUBVSaVP",
        "colab": {
          "base_uri": "https://localhost:8080/",
          "height": 139
        },
        "outputId": "c78b043a-c3c5-4fc8-b0d4-f3ac947e97cb"
      },
      "source": [
        "precios = df['Precio']\n",
        "Area = df['Área']\n",
        "Area"
      ],
      "execution_count": null,
      "outputs": [
        {
          "output_type": "execute_result",
          "data": {
            "text/plain": [
              "0    20.2\n",
              "1    30.1\n",
              "2    40.2\n",
              "3    49.9\n",
              "4    70.1\n",
              "5    90.0\n",
              "Name: Área, dtype: float64"
            ]
          },
          "metadata": {
            "tags": []
          },
          "execution_count": 19
        }
      ]
    },
    {
      "cell_type": "code",
      "metadata": {
        "id": "DapPYfhfTjhJ",
        "colab": {
          "base_uri": "https://localhost:8080/",
          "height": 385
        },
        "outputId": "cc5c18f3-93e1-4cfd-a1f6-c398e6a53898"
      },
      "source": [
        "modelo = LinearRegression()\n",
        "modelo.fit(Area, precios)"
      ],
      "execution_count": null,
      "outputs": [
        {
          "output_type": "error",
          "ename": "ValueError",
          "evalue": "ignored",
          "traceback": [
            "\u001b[0;31m---------------------------------------------------------------------------\u001b[0m",
            "\u001b[0;31mValueError\u001b[0m                                Traceback (most recent call last)",
            "\u001b[0;32m<ipython-input-20-44a5923e3b4e>\u001b[0m in \u001b[0;36m<module>\u001b[0;34m()\u001b[0m\n\u001b[1;32m      1\u001b[0m \u001b[0mmodelo\u001b[0m \u001b[0;34m=\u001b[0m \u001b[0mLinearRegression\u001b[0m\u001b[0;34m(\u001b[0m\u001b[0;34m)\u001b[0m\u001b[0;34m\u001b[0m\u001b[0;34m\u001b[0m\u001b[0m\n\u001b[0;32m----> 2\u001b[0;31m \u001b[0mmodelo\u001b[0m\u001b[0;34m.\u001b[0m\u001b[0mfit\u001b[0m\u001b[0;34m(\u001b[0m\u001b[0mArea\u001b[0m\u001b[0;34m,\u001b[0m \u001b[0mprecios\u001b[0m\u001b[0;34m)\u001b[0m\u001b[0;34m\u001b[0m\u001b[0;34m\u001b[0m\u001b[0m\n\u001b[0m",
            "\u001b[0;32m/usr/local/lib/python3.6/dist-packages/sklearn/linear_model/_base.py\u001b[0m in \u001b[0;36mfit\u001b[0;34m(self, X, y, sample_weight)\u001b[0m\n\u001b[1;32m    490\u001b[0m         \u001b[0mn_jobs_\u001b[0m \u001b[0;34m=\u001b[0m \u001b[0mself\u001b[0m\u001b[0;34m.\u001b[0m\u001b[0mn_jobs\u001b[0m\u001b[0;34m\u001b[0m\u001b[0;34m\u001b[0m\u001b[0m\n\u001b[1;32m    491\u001b[0m         X, y = check_X_y(X, y, accept_sparse=['csr', 'csc', 'coo'],\n\u001b[0;32m--> 492\u001b[0;31m                          y_numeric=True, multi_output=True)\n\u001b[0m\u001b[1;32m    493\u001b[0m \u001b[0;34m\u001b[0m\u001b[0m\n\u001b[1;32m    494\u001b[0m         \u001b[0;32mif\u001b[0m \u001b[0msample_weight\u001b[0m \u001b[0;32mis\u001b[0m \u001b[0;32mnot\u001b[0m \u001b[0;32mNone\u001b[0m\u001b[0;34m:\u001b[0m\u001b[0;34m\u001b[0m\u001b[0;34m\u001b[0m\u001b[0m\n",
            "\u001b[0;32m/usr/local/lib/python3.6/dist-packages/sklearn/utils/validation.py\u001b[0m in \u001b[0;36mcheck_X_y\u001b[0;34m(X, y, accept_sparse, accept_large_sparse, dtype, order, copy, force_all_finite, ensure_2d, allow_nd, multi_output, ensure_min_samples, ensure_min_features, y_numeric, warn_on_dtype, estimator)\u001b[0m\n\u001b[1;32m    753\u001b[0m                     \u001b[0mensure_min_features\u001b[0m\u001b[0;34m=\u001b[0m\u001b[0mensure_min_features\u001b[0m\u001b[0;34m,\u001b[0m\u001b[0;34m\u001b[0m\u001b[0;34m\u001b[0m\u001b[0m\n\u001b[1;32m    754\u001b[0m                     \u001b[0mwarn_on_dtype\u001b[0m\u001b[0;34m=\u001b[0m\u001b[0mwarn_on_dtype\u001b[0m\u001b[0;34m,\u001b[0m\u001b[0;34m\u001b[0m\u001b[0;34m\u001b[0m\u001b[0m\n\u001b[0;32m--> 755\u001b[0;31m                     estimator=estimator)\n\u001b[0m\u001b[1;32m    756\u001b[0m     \u001b[0;32mif\u001b[0m \u001b[0mmulti_output\u001b[0m\u001b[0;34m:\u001b[0m\u001b[0;34m\u001b[0m\u001b[0;34m\u001b[0m\u001b[0m\n\u001b[1;32m    757\u001b[0m         y = check_array(y, 'csr', force_all_finite=True, ensure_2d=False,\n",
            "\u001b[0;32m/usr/local/lib/python3.6/dist-packages/sklearn/utils/validation.py\u001b[0m in \u001b[0;36mcheck_array\u001b[0;34m(array, accept_sparse, accept_large_sparse, dtype, order, copy, force_all_finite, ensure_2d, allow_nd, ensure_min_samples, ensure_min_features, warn_on_dtype, estimator)\u001b[0m\n\u001b[1;32m    554\u001b[0m                     \u001b[0;34m\"Reshape your data either using array.reshape(-1, 1) if \"\u001b[0m\u001b[0;34m\u001b[0m\u001b[0;34m\u001b[0m\u001b[0m\n\u001b[1;32m    555\u001b[0m                     \u001b[0;34m\"your data has a single feature or array.reshape(1, -1) \"\u001b[0m\u001b[0;34m\u001b[0m\u001b[0;34m\u001b[0m\u001b[0m\n\u001b[0;32m--> 556\u001b[0;31m                     \"if it contains a single sample.\".format(array))\n\u001b[0m\u001b[1;32m    557\u001b[0m \u001b[0;34m\u001b[0m\u001b[0m\n\u001b[1;32m    558\u001b[0m         \u001b[0;31m# in the future np.flexible dtypes will be handled like object dtypes\u001b[0m\u001b[0;34m\u001b[0m\u001b[0;34m\u001b[0m\u001b[0;34m\u001b[0m\u001b[0m\n",
            "\u001b[0;31mValueError\u001b[0m: Expected 2D array, got 1D array instead:\narray=[20.2 30.1 40.2 49.9 70.1 90. ].\nReshape your data either using array.reshape(-1, 1) if your data has a single feature or array.reshape(1, -1) if it contains a single sample."
          ]
        }
      ]
    },
    {
      "cell_type": "code",
      "metadata": {
        "id": "9m_UmNlATVYS",
        "colab": {
          "base_uri": "https://localhost:8080/",
          "height": 34
        },
        "outputId": "8b7b35fc-eb33-4f4b-f8c5-e6bcb92576c5"
      },
      "source": [
        "Area"
      ],
      "execution_count": null,
      "outputs": [
        {
          "output_type": "execute_result",
          "data": {
            "text/plain": [
              "[[20.2, 30.1, 40.2, 49.9, 70.1, 90.0]]"
            ]
          },
          "metadata": {
            "tags": []
          },
          "execution_count": 18
        }
      ]
    }
  ]
}