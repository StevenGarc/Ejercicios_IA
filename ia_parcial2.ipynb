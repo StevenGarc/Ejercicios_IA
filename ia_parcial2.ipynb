{
  "nbformat": 4,
  "nbformat_minor": 0,
  "metadata": {
    "colab": {
      "name": "ia_parcial2",
      "provenance": [],
      "collapsed_sections": [],
      "authorship_tag": "ABX9TyOXdDvDpvhx5RG8zZkOEkzd",
      "include_colab_link": true
    },
    "kernelspec": {
      "name": "python3",
      "display_name": "Python 3"
    }
  },
  "cells": [
    {
      "cell_type": "markdown",
      "metadata": {
        "id": "view-in-github",
        "colab_type": "text"
      },
      "source": [
        "<a href=\"https://colab.research.google.com/github/StevenGarc/Ejercicios_IA/blob/master/ia_parcial2.ipynb\" target=\"_parent\"><img src=\"https://colab.research.google.com/assets/colab-badge.svg\" alt=\"Open In Colab\"/></a>"
      ]
    },
    {
      "cell_type": "markdown",
      "metadata": {
        "id": "RtK-C-Rma1Ws"
      },
      "source": [
        "# hill climbing:"
      ]
    },
    {
      "cell_type": "code",
      "metadata": {
        "id": "nWv2JontqMXK"
      },
      "source": [
        "from copy import copy, deepcopy \n",
        "from random import randrange"
      ],
      "execution_count": null,
      "outputs": []
    },
    {
      "cell_type": "code",
      "metadata": {
        "id": "yxwSDMjbqTkh"
      },
      "source": [
        "class sudoku:\n",
        "\n",
        "  def __init__(self, tablero, solucion=None):\n",
        "    self.tablero=tablero\n",
        "    self.solucion=solucion\n",
        "  \n",
        "  def __str__(self):\n",
        "    cpSolucion = copy(self.solucion)\n",
        "    stri=\"\"\n",
        "    stri+=' '\n",
        "    for j in range(6):\n",
        "      stri+=\"---\"\n",
        "    stri+='-  \\n'\n",
        "    for i in range(6):\n",
        "      stri+='|'\n",
        "      for j in range(6):\n",
        "        stri+=\" \"+str(self.tablero[i][j] if self.tablero[i][j]!=0 else cpSolucion.pop(0))+' '\n",
        "        if j%3==2 : stri+='|'\n",
        "      stri+='\\n'\n",
        "      \n",
        "      if i%2==1:\n",
        "        stri+=' '\n",
        "        for j in range(6):\n",
        "          stri+=\"---\"\n",
        "        stri+='-  \\n'\n",
        "        \n",
        "\n",
        "\n",
        "    return stri"
      ],
      "execution_count": null,
      "outputs": []
    },
    {
      "cell_type": "code",
      "metadata": {
        "id": "CN6bf2466QuU"
      },
      "source": [
        "class estado:\n",
        "  \n",
        "  def __init__ (self, solucion):\n",
        "    self.solucion = solucion\n",
        "  \n",
        "  def __str__ (self):\n",
        "    return str(self.solucion)\n",
        "    "
      ],
      "execution_count": null,
      "outputs": []
    },
    {
      "cell_type": "code",
      "metadata": {
        "id": "B44__Q6Z9iBQ"
      },
      "source": [
        "def generar_estados(e):\n",
        "  estados = []\n",
        "  for i in range(len(e.solucion)):\n",
        "    new = copy(e.solucion)\n",
        "    new[i]= (new[i]+1)%6 if (new[i]+1)%6!=0 else 6\n",
        "    estados.append(estado(new))\n",
        "    \n",
        "    new = copy(e.solucion)\n",
        "    new[i]= (new[i]-1)%6 if (new[i]-1)%6!=0 else 6\n",
        "    estados.append(estado(new))\n",
        "  return estados\n"
      ],
      "execution_count": null,
      "outputs": []
    },
    {
      "cell_type": "code",
      "metadata": {
        "id": "8uYNQn1R_Mts"
      },
      "source": [
        "def generar_estado_aleatorio(e):\n",
        "  new = []\n",
        "  for i in e.solucion:\n",
        "    new.append(randrange(1,7))\n",
        "  return estado(new)"
      ],
      "execution_count": null,
      "outputs": []
    },
    {
      "cell_type": "code",
      "metadata": {
        "id": "rwWDinvkcyxJ"
      },
      "source": [
        "def generar_estado(e):\n",
        "  t = copy(e.solucion)\n",
        "  rand = randrange(len(t))\n",
        "  mover = [-1,1][randrange(2)]\n",
        "  t[rand] = 6 if (t[rand]+mover)%6 == 0 else (t[rand]+mover)%6 \n",
        "  return estado(t)\n"
      ],
      "execution_count": null,
      "outputs": []
    },
    {
      "cell_type": "code",
      "metadata": {
        "id": "h2zcJTS-BEg8"
      },
      "source": [
        "def utilidad(sudoku, e):\n",
        "  evaluar = deepcopy(sudoku.tablero)\n",
        "  solucion= copy(e.solucion)\n",
        "\n",
        "  repeticion_col= [[-1,-1,-1,-1,-1,-1],[-1,-1,-1,-1,-1,-1],[-1,-1,-1,-1,-1,-1],[-1,-1,-1,-1,-1,-1],[-1,-1,-1,-1,-1,-1],[-1,-1,-1,-1,-1,-1]]\n",
        "  repeticion_fila= [[-1,-1,-1,-1,-1,-1],[-1,-1,-1,-1,-1,-1],[-1,-1,-1,-1,-1,-1],[-1,-1,-1,-1,-1,-1],[-1,-1,-1,-1,-1,-1],[-1,-1,-1,-1,-1,-1]]\n",
        "  repeticion_cuadrante= [[-1,-1,-1,-1,-1,-1],[-1,-1,-1,-1,-1,-1],[-1,-1,-1,-1,-1,-1],[-1,-1,-1,-1,-1,-1],[-1,-1,-1,-1,-1,-1],[-1,-1,-1,-1,-1,-1]]\n",
        "\n",
        "  \n",
        "  for i in range(len(evaluar)):\n",
        "    for j in range(len(evaluar)):\n",
        "      if evaluar[i][j]==0: evaluar[i][j]=solucion.pop(0)\n",
        "\n",
        "  for i in range(len(evaluar)):\n",
        "    for j in range(len(evaluar)):\n",
        "      repeticion_fila[i][evaluar[i][j]-1]+=1\n",
        "      repeticion_col[i][evaluar[j][i]-1]+=1\n",
        "      repeticion_cuadrante[int(j/3)+int(i/2)*2][evaluar[i][j]-1]+=1\n",
        "\n",
        "\n",
        "  total=0\n",
        "  for i in range(len(evaluar)):\n",
        "    for j in range(len(evaluar)):\n",
        "      #total+=abs(repeticion_total[i][j])\n",
        "      total+=abs(repeticion_col[i][j])\n",
        "      total+=abs(repeticion_fila[i][j])\n",
        "      total+=abs(repeticion_cuadrante[i][j])\n",
        "      \n",
        "\n",
        "  return total\n"
      ],
      "execution_count": null,
      "outputs": []
    },
    {
      "cell_type": "code",
      "metadata": {
        "id": "eXELqRwIS5zA"
      },
      "source": [
        "def hill_climbing(sudoku, inicial, iteraciones):\n",
        "  Utilidad_ini = utilidad(sudoku, inicial)\n",
        "  Utilidad = Utilidad_ini\n",
        "  ite = 0\n",
        "  for i in range(iteraciones):\n",
        "    ite+=1\n",
        "    for e in generar_estados(inicial):\n",
        "      #print(e)\n",
        "      v =  utilidad(sudoku, e)\n",
        "      if v <= Utilidad:\n",
        "        inicial = e\n",
        "        Utilidad = v\n",
        "        if Utilidad == 0: return ite, Utilidad, inicial\n",
        "\n",
        "  return ite, Utilidad, inicial"
      ],
      "execution_count": null,
      "outputs": []
    },
    {
      "cell_type": "code",
      "metadata": {
        "id": "G9bzv13Fb2he"
      },
      "source": [
        "def Stochastic_hill_climbing(sudoku, inicial, iteraciones):\n",
        "  Utilidad_ini = utilidad(sudoku, inicial)\n",
        "  Utilidad = Utilidad_ini\n",
        "  ite = 0\n",
        "  for i in range(iteraciones):\n",
        "    ite+=1\n",
        "    pocibles = []\n",
        "    for e in generar_estados(inicial):\n",
        "      v =  utilidad(sudoku,e)\n",
        "      if v <= Utilidad:\n",
        "        pocibles.append(e)\n",
        "    if len(pocibles) != 0:\n",
        "      rand = randrange(len(pocibles))\n",
        "      inicial = pocibles[rand]\n",
        "      Utilidad = utilidad(sudoku, inicial)\n",
        "      if Utilidad == 0: return ite, Utilidad, inicial\n",
        "  return ite, Utilidad, inicial"
      ],
      "execution_count": null,
      "outputs": []
    },
    {
      "cell_type": "code",
      "metadata": {
        "id": "BZsKDNF4cY-b"
      },
      "source": [
        "def First_choice_hill_climbing(sudoku, inicial, iteraciones):\n",
        "  ite = 0\n",
        "  for i in range(iteraciones):\n",
        "    ite+=1\n",
        "    nuevo = generar_estado(inicial)\n",
        "    if utilidad(sudoku,nuevo) <= utilidad(sudoku,inicial):\n",
        "      inicial = nuevo \n",
        "      Utilidad = utilidad(sudoku, inicial)\n",
        "      if Utilidad == 0: return ite, Utilidad, inicial\n",
        "  return ite, utilidad(sudoku, inicial), inicial"
      ],
      "execution_count": null,
      "outputs": []
    },
    {
      "cell_type": "code",
      "metadata": {
        "id": "JguQTFS2f_nU"
      },
      "source": [
        "def Random_restart_hill(sudoku, inicial, iteraciones):\n",
        "  ite = 0\n",
        "  for i in range(iteraciones):\n",
        "    ite += 1\n",
        "    nuevo = generar_estado_aleatorio(inicial)\n",
        "    k, v, nuevo = hill_climbing(sudoku, nuevo, 20)\n",
        "    if v <= utilidad(sudoku,inicial):\n",
        "      inicial = nuevo\n",
        "      Utilidad = utilidad(sudoku,inicial)\n",
        "      if Utilidad == 0: return ite, Utilidad, inicial\n",
        "  return ite, utilidad(sudoku, inicial), inicial"
      ],
      "execution_count": null,
      "outputs": []
    },
    {
      "cell_type": "code",
      "metadata": {
        "id": "GQIwHJK0zfx_"
      },
      "source": [
        "tablero = [\n",
        "           [0,0,3,0,1,0],\n",
        "           [5,6,0,3,2,0],\n",
        "           [0,5,4,2,0,3],\n",
        "           [2,0,6,4,5,0],\n",
        "           [0,1,2,0,4,5],\n",
        "           [0,4,0,1,0,0]\n",
        "]\n",
        "solucion=[1,1,1,1,1,1,1,1,1,1,1,1,1,1,1,1]\n",
        "s=sudoku(tablero, solucion)\n",
        "print(s)\n",
        "e = estado(solucion)\n",
        "\n",
        "print('valor',utilidad(s, e))\n",
        "\n",
        "ite, v, e = hill_climbing(s, e, 10000)\n",
        "s.solucion=e.solucion\n",
        "print(e.solucion)\n",
        "print(s)\n",
        "print('valor',v)\n",
        "print('ite',ite)\n",
        "\n",
        "ite, v, e = Stochastic_hill_climbing(s, e, 10000)\n",
        "s.solucion=e.solucion\n",
        "print(e.solucion)\n",
        "print(s)\n",
        "print('valor',v)\n",
        "print('ite',ite)\n",
        "\n",
        "ite, v, e = First_choice_hill_climbing(s, e, 10000)\n",
        "s.solucion=e.solucion\n",
        "print(e.solucion)\n",
        "print(s)\n",
        "print('valor',v)\n",
        "print('ite',ite)\n",
        "\n",
        "ite, v, e = Random_restart_hill(s, e, 10000)\n",
        "s.solucion=e.solucion\n",
        "print(e.solucion)\n",
        "print(s)\n",
        "print('valor',v)\n",
        "print('ite',ite)\n"
      ],
      "execution_count": null,
      "outputs": []
    },
    {
      "cell_type": "markdown",
      "metadata": {
        "id": "3Gm1FBKoBSEv"
      },
      "source": [
        "# Algoritmo Genetico"
      ]
    },
    {
      "cell_type": "code",
      "metadata": {
        "id": "SL9wOHR_BQPQ"
      },
      "source": [
        "LONGITUD_CROMOSOMA = 16\n",
        "tablero = [\n",
        "           [0,0,3,0,1,0],\n",
        "           [5,6,0,3,2,0],\n",
        "           [0,5,4,2,0,3],\n",
        "           [2,0,6,4,5,0],\n",
        "           [0,1,2,0,4,5],\n",
        "           [0,4,0,1,0,0]\n",
        "]\n",
        "SUDOKU=sudoku(tablero)\n",
        "\n",
        "class Individuo:\n",
        "  def __init__(self, cromosoma):\n",
        "        self.cromosoma = cromosoma\n",
        "\n",
        "  def get_fenotipo(self):\n",
        "        x = estado(self.cromosoma)\n",
        "        return x\n",
        "        \n",
        "    ## fitness    \n",
        "  def fevaluar(self):\n",
        "      y = utilidad(SUDOKU, self.get_fenotipo())\n",
        "      return y\n",
        "    \n",
        "  def __gt__ (self, otro):\n",
        "    return self.fevaluar() > otro.fevaluar()\n",
        "  \n",
        "  def __eq__(self, otro):\n",
        "    return self.cromosoma == otro.cromosoma\n",
        "    \n",
        "  def __str__(self):\n",
        "    return (self.cromosoma.__str__() + \" x={} puntaje: {}\".format(self.get_fenotipo() , self.fevaluar()))\n",
        "    \n",
        "  def __repr__(self):\n",
        "    return self.__str__()\n"
      ],
      "execution_count": null,
      "outputs": []
    },
    {
      "cell_type": "code",
      "metadata": {
        "id": "Ds3iQyl6CAAL"
      },
      "source": [
        "def cruzar(padre1, padre2):\n",
        "\n",
        "    longitud_cromosoma = len(padre1.cromosoma)\n",
        "\n",
        "    c=[]\n",
        "    for i in range(longitud_cromosoma):\n",
        "      c.append(padre1.cromosoma[i] if i<longitud_cromosoma/2 else padre2.cromosoma[i])\n",
        "    hijo = Individuo(cromosoma=c)\n",
        "    return hijo\n"
      ],
      "execution_count": null,
      "outputs": []
    },
    {
      "cell_type": "code",
      "metadata": {
        "id": "BIV8EZ3uCA66"
      },
      "source": [
        "import random\n",
        "def mutar(individuo, prob=0.1):\n",
        "\n",
        "  for index, gen in enumerate(individuo.cromosoma):\n",
        "    if random.random() < prob:\n",
        "      individuo.cromosoma[index] = randrange(1,7)\n",
        "  return individuo\n"
      ],
      "execution_count": null,
      "outputs": []
    },
    {
      "cell_type": "code",
      "metadata": {
        "id": "PhGsP_ONCGzW"
      },
      "source": [
        "def generar_random_cromosoma(longitud=16):\n",
        "    cromosoma = []\n",
        "    for i in range(longitud):\n",
        "        gen = randrange(1,7)\n",
        "        cromosoma.append(gen)\n",
        "    return cromosoma"
      ],
      "execution_count": null,
      "outputs": []
    },
    {
      "cell_type": "code",
      "metadata": {
        "id": "U828tCs7CLZs"
      },
      "source": [
        "def generar_poblacion_inicial(tamano_poblacion=10, longitud_cromosoma=16):\n",
        "    poblacion = []\n",
        "    for i in range(tamano_poblacion):\n",
        "        repetir = True\n",
        "        while repetir:\n",
        "            individuo = Individuo(generar_random_cromosoma(longitud=longitud_cromosoma))\n",
        "            poblacion.append(individuo)\n",
        "            repetir = False\n",
        "\n",
        "    return poblacion\n"
      ],
      "execution_count": null,
      "outputs": []
    },
    {
      "cell_type": "code",
      "metadata": {
        "id": "ofNsYAWUCUJ3"
      },
      "source": [
        "poblacion = generar_poblacion_inicial(10, LONGITUD_CROMOSOMA)\n",
        "\n",
        "def seleccionar_padre_por_toreno(poblacion):\n",
        "  \n",
        "    padre1 = random.choice(poblacion)\n",
        "    padre2 = random.choice(poblacion)\n",
        "    padre = min(padre1, padre2)\n",
        "    return padre\n"
      ],
      "execution_count": null,
      "outputs": []
    },
    {
      "cell_type": "code",
      "metadata": {
        "id": "wFKBEieXWoEi"
      },
      "source": [
        "def seleccionar_padre_por_ruleta(poblacion):\n",
        "    ruleta = []\n",
        "    for i in poblacion:\n",
        "        valor = i.fevaluar()\n",
        "        if valor == 0:\n",
        "            prob = 100\n",
        "        if valor != 0:\n",
        "            prob = int(100 / valor)\n",
        "        for n in range(prob + 1):\n",
        "            ruleta.append(i)\n",
        "    return random.choice(ruleta)"
      ],
      "execution_count": null,
      "outputs": []
    },
    {
      "cell_type": "code",
      "metadata": {
        "id": "8HWRlsOZCXxJ"
      },
      "source": [
        "\n",
        "def generar_padres(poblacion, num_padres=6, seleccion=0):\n",
        "\n",
        "    metodo= [seleccionar_padre_por_toreno, seleccionar_padre_por_ruleta]\n",
        "    posibles_padres = deepcopy(poblacion)\n",
        "    padres_seleccionados = []\n",
        "    posibles_padres.sort(reverse=False)\n",
        "    for i in range(num_padres):\n",
        "        padre = metodo[seleccion](posibles_padres)\n",
        "        padres_seleccionados.append(padre)\n",
        "        posibles_padres.remove(padre)\n",
        "        \n",
        "    return padres_seleccionados"
      ],
      "execution_count": null,
      "outputs": []
    },
    {
      "cell_type": "code",
      "metadata": {
        "id": "lMRZxGp4CfVK"
      },
      "source": [
        "## ALGORITMO GENÉTICO\n",
        "def algoritmo_genetico(Generaciones=100, poblacion=10, longitud_clomosoma=LONGITUD_CROMOSOMA, seleccion_padres=0, probabilidad_mutacion=0.1):\n",
        "  historico_mejor=[]\n",
        "  poblacion = generar_poblacion_inicial(poblacion, longitud_clomosoma)\n",
        "  anterior_mejor = None\n",
        "\n",
        "  for i in range(Generaciones):\n",
        "      poblacion.sort(reverse=False)\n",
        "      anterior_mejor = poblacion[0]\n",
        "      nueva_poblacion = []\n",
        "      for i in range(int(len(poblacion)/2)):\n",
        "        padres = generar_padres(poblacion, 2, seleccion_padres)\n",
        "        hijo1 = cruzar(padres[0],padres[1])\n",
        "        hijo2 = cruzar(padres[1],padres[0])\n",
        "        ## mutar hijos\n",
        "        hijo1 = mutar(hijo1, probabilidad_mutacion)\n",
        "        hijo2 = mutar(hijo2, probabilidad_mutacion)\n",
        "        ## agrega hijos a la nueva población\n",
        "        nueva_poblacion.append(hijo1)\n",
        "        nueva_poblacion.append(hijo2)\n",
        "        ## ...\n",
        "    \n",
        "      poblacion = nueva_poblacion\n",
        "    # Eltismo: Incluye al mejor de la generación anterior en la nueva generación\n",
        "      poblacion.sort(reverse=False)\n",
        "      poblacion[-1] = anterior_mejor\n",
        "      historico_mejor.append(anterior_mejor.fevaluar())\n",
        "      #print(anterior_mejor)\n",
        "  return historico_mejor, anterior_mejor"
      ],
      "execution_count": null,
      "outputs": []
    },
    {
      "cell_type": "code",
      "metadata": {
        "id": "2KAh0nDSck-M",
        "colab": {
          "base_uri": "https://localhost:8080/",
          "height": 72
        },
        "outputId": "a41d968e-37d9-40f3-934e-3bb56440b55b"
      },
      "source": [
        "print(algoritmo_genetico(Generaciones=100, poblacion=10, longitud_clomosoma=LONGITUD_CROMOSOMA, seleccion_padres=0, probabilidad_mutacion=0.1))\n",
        "print(algoritmo_genetico(seleccion_padres=0))\n"
      ],
      "execution_count": null,
      "outputs": [
        {
          "output_type": "stream",
          "text": [
            "([52, 46, 46, 46, 42, 42, 38, 32, 32, 32, 30, 30, 30, 30, 28, 26, 24, 24, 22, 18, 18, 18, 18, 16, 16, 16, 16, 16, 16, 16, 16, 16, 16, 16, 16, 16, 16, 16, 16, 16, 16, 14, 12, 12, 10, 10, 10, 10, 10, 8, 8, 8, 8, 8, 8, 8, 8, 8, 8, 8, 8, 8, 8, 8, 8, 8, 8, 8, 8, 8, 8, 8, 8, 8, 8, 8, 8, 8, 8, 8, 8, 8, 8, 8, 8, 8, 8, 8, 8, 8, 8, 8, 8, 8, 8, 8, 8, 8, 8, 8], [2, 4, 6, 5, 1, 4, 1, 6, 3, 1, 3, 6, 6, 5, 3, 2] x=[2, 4, 6, 5, 1, 4, 1, 6, 3, 1, 3, 6, 6, 5, 3, 2] puntaje: 8)\n",
            "([48, 44, 44, 44, 40, 40, 40, 38, 34, 32, 30, 30, 30, 30, 28, 28, 28, 28, 28, 26, 24, 24, 24, 24, 24, 24, 24, 24, 24, 24, 24, 24, 24, 24, 24, 24, 24, 24, 24, 24, 24, 24, 24, 24, 24, 24, 24, 24, 22, 22, 22, 22, 22, 22, 22, 22, 22, 22, 22, 22, 22, 22, 22, 22, 20, 20, 20, 20, 16, 16, 16, 16, 16, 16, 16, 16, 16, 16, 16, 16, 16, 16, 16, 16, 16, 16, 16, 16, 16, 16, 14, 10, 10, 10, 10, 10, 10, 10, 10, 10], [2, 4, 6, 5, 1, 4, 1, 6, 3, 1, 6, 3, 3, 5, 6, 2] x=[2, 4, 6, 5, 1, 4, 1, 6, 3, 1, 6, 3, 3, 5, 6, 2] puntaje: 10)\n"
          ],
          "name": "stdout"
        }
      ]
    },
    {
      "cell_type": "markdown",
      "metadata": {
        "id": "81Sx7lvXbAaR"
      },
      "source": [
        "# Evaluacion"
      ]
    },
    {
      "cell_type": "markdown",
      "metadata": {
        "id": "15Rokar3dhiz"
      },
      "source": [
        "**Evaluación de metodo hill**"
      ]
    },
    {
      "cell_type": "code",
      "metadata": {
        "id": "U2KlC4NqVPVb",
        "colab": {
          "base_uri": "https://localhost:8080/",
          "height": 1000
        },
        "outputId": "79ef3cfa-cb48-45db-d039-a9a55505b9a9"
      },
      "source": [
        "import matplotlib.pyplot as plt\n",
        "tablero = [\n",
        "           [0,0,3,0,1,0],\n",
        "           [5,6,0,3,2,0],\n",
        "           [0,5,4,2,0,3],\n",
        "           [2,0,6,4,5,0],\n",
        "           [0,1,2,0,4,5],\n",
        "           [0,4,0,1,0,0]\n",
        "]\n",
        "solucion=[1,1,1,1,1,1,1,1,1,1,1,1,1,1,1,1]\n",
        "s=sudoku(tablero)\n",
        "e = estado(solucion)\n",
        "\n",
        "variaciones={\n",
        "    \"hill climbing\":hill_climbing,\n",
        "    \"Stochastic hill climbing:\": Stochastic_hill_climbing,\n",
        "    \"First-choice hill climbing:\": First_choice_hill_climbing,\n",
        "    \"Random restart hill:\": Random_restart_hill\n",
        "       }\n",
        "iteraciones = 100\n",
        "for nombre, funcion in variaciones.items():\n",
        "  resultados = []\n",
        "  for i in range(iteraciones):\n",
        "    ite, v, e = funcion(s, e, i)\n",
        "    resultados.append(v) \n",
        "  plt.plot(range(iteraciones), resultados)\n",
        "  plt.title(nombre)\n",
        "  plt.ylabel('Costo')\n",
        "  plt.xlabel('Iteraciones')\n",
        "  plt.grid(True)\n",
        "  plt.show()\n",
        "  "
      ],
      "execution_count": null,
      "outputs": [
        {
          "output_type": "display_data",
          "data": {
            "image/png": "[encoded data removed]",
            "text/plain": [
              "<Figure size 432x288 with 1 Axes>"
            ]
          },
          "metadata": {
            "tags": [],
            "needs_background": "light"
          }
        },
        {
          "output_type": "display_data",
          "data": {
            "image/png": "[encoded data removed]",
            "text/plain": [
              "<Figure size 432x288 with 1 Axes>"
            ]
          },
          "metadata": {
            "tags": [],
            "needs_background": "light"
          }
        },
        {
          "output_type": "display_data",
          "data": {
            "image/png": "[encoded data removed]",
            "text/plain": [
              "<Figure size 432x288 with 1 Axes>"
            ]
          },
          "metadata": {
            "tags": [],
            "needs_background": "light"
          }
        },
        {
          "output_type": "display_data",
          "data": {
            "image/png": "[encoded data removed]",
            "text/plain": [
              "<Figure size 432x288 with 1 Axes>"
            ]
          },
          "metadata": {
            "tags": [],
            "needs_background": "light"
          }
        }
      ]
    },
    {
      "cell_type": "markdown",
      "metadata": {
        "id": "Kb6nzOvthfBx"
      },
      "source": [
        "Evaluación algotimo genetico"
      ]
    },
    {
      "cell_type": "markdown",
      "metadata": {
        "id": "yYoMleO9isyW"
      },
      "source": [
        "Seleccionanado padres por torneo y variando la provavilidad de mutación con poblacion constante de 10"
      ]
    },
    {
      "cell_type": "code",
      "metadata": {
        "id": "IV3MZAmChd7z",
        "colab": {
          "base_uri": "https://localhost:8080/",
          "height": 1000
        },
        "outputId": "2c620dc8-fd62-45e1-ec7d-a1f1f9783ccf"
      },
      "source": [
        "algoritmo_genetico(Generaciones=100, poblacion=10, longitud_clomosoma=LONGITUD_CROMOSOMA, seleccion_padres=0, probabilidad_mutacion=0.1)\n",
        "generaciones = 200\n",
        "for i in range (1, 50, 10):\n",
        "  historico, resultado = algoritmo_genetico(Generaciones=generaciones, poblacion=10, longitud_clomosoma=LONGITUD_CROMOSOMA, seleccion_padres=0, probabilidad_mutacion=i/100)\n",
        "  plt.plot(range(generaciones), historico)\n",
        "  plt.title('por torneo con Mutacion: {}'.format(i/100))\n",
        "  plt.ylabel('Costo')\n",
        "  plt.xlabel('Genearaciones')\n",
        "  plt.grid(True)\n",
        "  plt.show()\n",
        "  "
      ],
      "execution_count": null,
      "outputs": [
        {
          "output_type": "stream",
          "text": [
            "200\n"
          ],
          "name": "stdout"
        },
        {
          "output_type": "display_data",
          "data": {
            "image/png": "[encoded data removed]",
            "text/plain": [
              "<Figure size 432x288 with 1 Axes>"
            ]
          },
          "metadata": {
            "tags": [],
            "needs_background": "light"
          }
        },
        {
          "output_type": "stream",
          "text": [
            "200\n"
          ],
          "name": "stdout"
        },
        {
          "output_type": "display_data",
          "data": {
            "image/png": "[encoded data removed]",
            "text/plain": [
              "<Figure size 432x288 with 1 Axes>"
            ]
          },
          "metadata": {
            "tags": [],
            "needs_background": "light"
          }
        },
        {
          "output_type": "stream",
          "text": [
            "200\n"
          ],
          "name": "stdout"
        },
        {
          "output_type": "display_data",
          "data": {
            "image/png": "[encoded data removed]",
            "text/plain": [
              "<Figure size 432x288 with 1 Axes>"
            ]
          },
          "metadata": {
            "tags": [],
            "needs_background": "light"
          }
        },
        {
          "output_type": "stream",
          "text": [
            "200\n"
          ],
          "name": "stdout"
        },
        {
          "output_type": "display_data",
          "data": {
            "image/png": "[encoded data removed]",
            "text/plain": [
              "<Figure size 432x288 with 1 Axes>"
            ]
          },
          "metadata": {
            "tags": [],
            "needs_background": "light"
          }
        },
        {
          "output_type": "stream",
          "text": [
            "200\n"
          ],
          "name": "stdout"
        },
        {
          "output_type": "display_data",
          "data": {
            "image/png": "[encoded data removed]",
            "text/plain": [
              "<Figure size 432x288 with 1 Axes>"
            ]
          },
          "metadata": {
            "tags": [],
            "needs_background": "light"
          }
        }
      ]
    },
    {
      "cell_type": "markdown",
      "metadata": {
        "id": "gFydzA0UlT7Z"
      },
      "source": [
        "Seleccionanado padres por ruleta y variando la provavilidad de mutación  con poblacion constante de 10"
      ]
    },
    {
      "cell_type": "code",
      "metadata": {
        "id": "QrjMnDfwjITJ",
        "colab": {
          "base_uri": "https://localhost:8080/",
          "height": 1000
        },
        "outputId": "18eb11c2-5dde-45ba-ec06-4d05b82d326a"
      },
      "source": [
        "algoritmo_genetico(Generaciones=100, poblacion=10, longitud_clomosoma=LONGITUD_CROMOSOMA, seleccion_padres=0, probabilidad_mutacion=0.1)\n",
        "generaciones = 200\n",
        "for i in range (1, 20, 5):\n",
        "  historico ,resultado = algoritmo_genetico(Generaciones=generaciones, poblacion=10, longitud_clomosoma=LONGITUD_CROMOSOMA, seleccion_padres=1, probabilidad_mutacion=i/100)\n",
        "  plt.plot(range(generaciones), historico)\n",
        "  plt.title('por ruleta con Mutacion: {}'.format(i/100))\n",
        "  plt.ylabel('Costo')\n",
        "  plt.xlabel('Genearaciones')\n",
        "  plt.grid(True)\n",
        "  plt.show()"
      ],
      "execution_count": null,
      "outputs": [
        {
          "output_type": "display_data",
          "data": {
            "image/png": "[encoded data removed]",
            "text/plain": [
              "<Figure size 432x288 with 1 Axes>"
            ]
          },
          "metadata": {
            "tags": [],
            "needs_background": "light"
          }
        },
        {
          "output_type": "display_data",
          "data": {
            "image/png": "[encoded data removed]",
            "text/plain": [
              "<Figure size 432x288 with 1 Axes>"
            ]
          },
          "metadata": {
            "tags": [],
            "needs_background": "light"
          }
        },
        {
          "output_type": "display_data",
          "data": {
            "image/png": "[encoded data removed]",
            "text/plain": [
              "<Figure size 432x288 with 1 Axes>"
            ]
          },
          "metadata": {
            "tags": [],
            "needs_background": "light"
          }
        },
        {
          "output_type": "display_data",
          "data": {
            "image/png": "[encoded data removed]",
            "text/plain": [
              "<Figure size 432x288 with 1 Axes>"
            ]
          },
          "metadata": {
            "tags": [],
            "needs_background": "light"
          }
        }
      ]
    }
  ]
}