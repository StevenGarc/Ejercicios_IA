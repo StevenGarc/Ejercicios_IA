{
  "nbformat": 4,
  "nbformat_minor": 0,
  "metadata": {
    "colab": {
      "name": "Busquedas con Peso.ipynb",
      "provenance": [],
      "collapsed_sections": [],
      "authorship_tag": "ABX9TyMQfISQNqwUwTwQPjpNzciF",
      "include_colab_link": true
    },
    "kernelspec": {
      "name": "python3",
      "display_name": "Python 3"
    }
  },
  "cells": [
    {
      "cell_type": "markdown",
      "metadata": {
        "id": "view-in-github",
        "colab_type": "text"
      },
      "source": [
        "<a href=\"https://colab.research.google.com/github/StevenGarc/Ejercicios_IA/blob/master/Busquedas_con_Peso.ipynb\" target=\"_parent\"><img src=\"https://colab.research.google.com/assets/colab-badge.svg\" alt=\"Open In Colab\"/></a>"
      ]
    },
    {
      "cell_type": "markdown",
      "metadata": {
        "id": "y35HzJXKtGIi"
      },
      "source": [
        "# Definicion del grafo"
      ]
    },
    {
      "cell_type": "code",
      "metadata": {
        "id": "PgEFXTDuJ_kL"
      },
      "source": [
        "class Grafo:\n",
        "  nodos = dict()\n",
        "  def __init__(self):\n",
        "    self.nodos = dict()\n",
        "\n",
        "  def agregar_nodo(self, Nombre, Conexiones=dict()):\n",
        "    if not Nombre in self.nodos:\n",
        "      self.nodos[Nombre] = Conexiones\n",
        "    else:\n",
        "      self.nodos[Nombre].update(Conexiones)\n",
        "    for nodo, costo in Conexiones.items():\n",
        "      if nodo in self.nodos:\n",
        "        self.nodos[nodo][Nombre]=costo\n",
        "      else:\n",
        "        self.nodos[nodo] = {Nombre:costo}\n",
        "\n",
        "  def __str__(self):\n",
        "    st=\"\"\n",
        "    for nombre, conexion in self.nodos.items():\n",
        "      st = st + nombre + \":\" + str(conexion)\n",
        "      st = st + \"\\n\"\n",
        "    return st"
      ],
      "execution_count": null,
      "outputs": []
    },
    {
      "cell_type": "code",
      "metadata": {
        "id": "MwLJN9cNT3rg"
      },
      "source": [
        "grafo = Grafo()\n",
        "grafo.agregar_nodo(\"Arad\", {\"Zering\":75, \"Sibu\":140, \"Timisoara\":118})\n",
        "grafo.agregar_nodo(\"Zering\", {\"Oradea\":171})\n",
        "grafo.agregar_nodo(\"Oradea\", {\"Sibu\":151})\n",
        "grafo.agregar_nodo(\"Timisoara\", {\"Lugoj\":111})\n",
        "grafo.agregar_nodo(\"Lugoj\", {\"Mehadia\":70})\n",
        "grafo.agregar_nodo(\"Mehadia\", {\"Drobeta\":75})\n",
        "grafo.agregar_nodo(\"Drobeta\", {\"Craiova\":120})\n",
        "grafo.agregar_nodo(\"Craiova\", {\"Rimmicu\":146, \"Pitesti\":138})\n",
        "grafo.agregar_nodo(\"Rimmicu\", {\"Pitesti\":97})\n",
        "grafo.agregar_nodo(\"Sibu\", {\"Rimmicu\":80, \"Fagaras\":99})\n",
        "grafo.agregar_nodo(\"Fagaras\", {\"Bucharest\":211})\n",
        "grafo.agregar_nodo(\"Pitesti\", {\"Bucharest\":101})\n"
      ],
      "execution_count": null,
      "outputs": []
    },
    {
      "cell_type": "markdown",
      "metadata": {
        "id": "0nXYy6ZstUga"
      },
      "source": [
        "# Costo Uniforme\n"
      ]
    },
    {
      "cell_type": "code",
      "metadata": {
        "id": "HzzW7G1HdXZz"
      },
      "source": [
        "class estado:\n",
        "  padre = \"\"\n",
        "  nodo = \"\"\n",
        "  costo = 0\n",
        "  def __init__(self, nodo, padre = None, costo = 0):\n",
        "    self.nodo = nodo\n",
        "    self.padre = padre\n",
        "    self.costo = costo\n",
        "  \n",
        "  def generar_estados(self, grafo):\n",
        "    estados = []\n",
        "    for n, c in grafo.nodos[self.nodo].items():\n",
        "      estados.append(estado(n, self, self.costo+c))\n",
        "    return estados\n",
        "\n",
        "  def __eq__(self, otro):\n",
        "    return self.nodo == otro.nodo\n",
        "\n",
        "  def __str__(self):\n",
        "    return self.nodo+\", \"+str(self.costo)"
      ],
      "execution_count": null,
      "outputs": []
    },
    {
      "cell_type": "code",
      "metadata": {
        "id": "d7KTzfl7aWTS",
        "colab": {
          "base_uri": "https://localhost:8080/",
          "height": 34
        },
        "outputId": "80429998-eab6-48c2-8c7a-018a7d28f54f"
      },
      "source": [
        "estado_inicial = estado(\"Arad\")\n",
        "estado_final = estado(\"Bucharest\")\n",
        "estado_actual = estado_inicial\n",
        "visitados = [estado_actual]\n",
        "frontera = []\n",
        "while not estado_final in visitados:\n",
        "\n",
        "  for nodo in estado_actual.generar_estados(grafo):\n",
        "    if not nodo in visitados:\n",
        "      frontera.append(nodo)\n",
        "  frontera = sorted(frontera, key=lambda x: x.costo)\n",
        "\n",
        "  if len(frontera) != 0:\n",
        "    estado_actual=frontera.pop(0)\n",
        "    visitados.append(estado_actual)\n",
        "    while estado_actual in frontera: frontera.remove(estado_actual)\n",
        "  else:\n",
        "    print(\"No Hay Solución\")\n",
        "    estado_actual = None\n",
        "    break\n",
        "\n",
        "solucion = []\n",
        "while estado_actual:\n",
        "  solucion.append(estado_actual)\n",
        "  estado_actual=estado_actual.padre\n",
        "sol=\"\"\n",
        "for i in solucion[::-1]:\n",
        "  sol += str(i)+\" \"\n",
        "print(sol)\n"
      ],
      "execution_count": null,
      "outputs": [
        {
          "output_type": "stream",
          "text": [
            "Arad, 0 Sibu, 140 Rimmicu, 220 Pitesti, 317 Bucharest, 418 \n"
          ],
          "name": "stdout"
        }
      ]
    },
    {
      "cell_type": "markdown",
      "metadata": {
        "id": "fIzb1878x2CV"
      },
      "source": [
        "# A*"
      ]
    },
    {
      "cell_type": "code",
      "metadata": {
        "id": "hQWgPWKmuk7_"
      },
      "source": [
        "H = {'Arad': 366, 'Zering': 374,'Oradea': 380,'Timisoara':329,'Lugoj': 244,'Mehadia': 241,'Drobeta': 242,'Craiova': 160,'Rimmicu': 193,'Sibu': 253,'Fagaras': 176,'Pitesti': 100,'Bucharest': 0 }\n",
        "\n",
        "class estado:\n",
        "  padre = \"\"\n",
        "  nodo = \"\"\n",
        "  heuristica = 0 #g(n)+h(n)\n",
        "  costo = 0 #g(n)\n",
        "  def __init__(self, nodo, padre = None, costo = 0, ):\n",
        "    self.nodo = nodo\n",
        "    self.padre = padre\n",
        "    self.costo = costo\n",
        "    self.heuristica = costo + H[nodo]\n",
        "  \n",
        "  def generar_estados(self, grafo):\n",
        "    estados = []\n",
        "    for n, c in grafo.nodos[self.nodo].items():\n",
        "      estados.append(estado(n, self, self.costo+c))\n",
        "    return estados\n",
        "\n",
        "  def __eq__(self, otro):\n",
        "    return self.nodo == otro.nodo\n",
        "\n",
        "  def __str__(self):\n",
        "    return self.nodo+\": \"+str(self.heuristica)"
      ],
      "execution_count": null,
      "outputs": []
    },
    {
      "cell_type": "code",
      "metadata": {
        "id": "Zvs_PftfxeoC",
        "colab": {
          "base_uri": "https://localhost:8080/",
          "height": 34
        },
        "outputId": "569950ba-db50-4df1-ea8d-b02d3b4d4c95"
      },
      "source": [
        "estado_inicial = estado(\"Arad\")\n",
        "estado_final = estado(\"Bucharest\")\n",
        "estado_actual = estado_inicial\n",
        "visitados = [estado_actual]\n",
        "frontera = []\n",
        "while not estado_final in visitados:\n",
        "\n",
        "  for nodo in estado_actual.generar_estados(grafo):\n",
        "    if not nodo in visitados:\n",
        "      frontera.append(nodo)\n",
        "  frontera = sorted(frontera, key=lambda x: x.heuristica)\n",
        "  if len(frontera) != 0:\n",
        "    estado_actual=frontera.pop(0)\n",
        "    visitados.append(estado_actual)\n",
        "    while estado_actual in frontera: frontera.remove(estado_actual)\n",
        "  else:\n",
        "    print(\"No Hay Solución\")\n",
        "    estado_actual = None\n",
        "    break\n",
        "\n",
        "solucion = []\n",
        "while estado_actual:\n",
        "  solucion.append(estado_actual)\n",
        "  estado_actual=estado_actual.padre\n",
        "sol=\"\"\n",
        "for i in solucion[::-1]:\n",
        "  sol += str(i)+\" \"\n",
        "print(sol)"
      ],
      "execution_count": null,
      "outputs": [
        {
          "output_type": "stream",
          "text": [
            "Arad: 366 Sibu: 393 Rimmicu: 413 Pitesti: 417 Bucharest: 418 \n"
          ],
          "name": "stdout"
        }
      ]
    }
  ]
}