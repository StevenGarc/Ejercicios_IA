{
  "nbformat": 4,
  "nbformat_minor": 0,
  "metadata": {
    "colab": {
      "name": "sa-lab.ipynb",
      "provenance": [],
      "collapsed_sections": [],
      "include_colab_link": true
    },
    "kernelspec": {
      "name": "python3",
      "display_name": "Python 3"
    }
  },
  "cells": [
    {
      "cell_type": "markdown",
      "metadata": {
        "id": "view-in-github",
        "colab_type": "text"
      },
      "source": [
        "<a href=\"https://colab.research.google.com/github/StevenGarc/Ejercicios_IA/blob/master/sa_lab.ipynb\" target=\"_parent\"><img src=\"https://colab.research.google.com/assets/colab-badge.svg\" alt=\"Open In Colab\"/></a>"
      ]
    },
    {
      "cell_type": "code",
      "metadata": {
        "id": "ZCGRfgBwrXSF"
      },
      "source": [
        "from matplotlib import pyplot as plt\n",
        "import numpy as np\n",
        "import numpy.random as rn\n"
      ],
      "execution_count": null,
      "outputs": []
    },
    {
      "cell_type": "code",
      "metadata": {
        "id": "SoDRD0sKFToL"
      },
      "source": [
        "e = np.arange(0, 2000, 0.1)"
      ],
      "execution_count": null,
      "outputs": []
    },
    {
      "cell_type": "code",
      "metadata": {
        "id": "ad7Wd7JJGFfC"
      },
      "source": [
        "# Parámetros: Energía temperatura. Probabilidad de tener un estado con energía e\n",
        "def p(e, t): \n",
        "  return np.exp(-e/t)"
      ],
      "execution_count": null,
      "outputs": []
    },
    {
      "cell_type": "code",
      "metadata": {
        "id": "LQCggQisriJ8",
        "colab": {
          "base_uri": "https://localhost:8080/",
          "height": 265
        },
        "outputId": "0a2ea6de-628e-4aad-c239-48b5a0d2ecad"
      },
      "source": [
        "# realizar varias gráficas (t=5, t=100, t=800, t=500)\n",
        "#responder: cuando es más probable que un estado tenga una energía alta_\n",
        "p1=plt.plot(e, p(e,t=5))\n",
        "p2=plt.plot(e, p(e,t=100))\n",
        "p3=plt.plot(e, p(e,t=500))\n",
        "p4=plt.plot(e, p(e,t=800))\n",
        "plt.grid(True)\n",
        "plt.legend(('t=5','t=100','t=500','t=800'))\n",
        "plt.show()"
      ],
      "execution_count": null,
      "outputs": [
        {
          "output_type": "display_data",
          "data": {
            "image/png": "[encoded data removed]",
            "text/plain": [
              "<Figure size 432x288 with 1 Axes>"
            ]
          },
          "metadata": {
            "tags": [],
            "needs_background": "light"
          }
        }
      ]
    },
    {
      "cell_type": "markdown",
      "metadata": {
        "id": "ZYlxT-AxmmhE"
      },
      "source": [
        "# Parte 2\n"
      ]
    },
    {
      "cell_type": "markdown",
      "metadata": {
        "id": "R-uWAMSYnBwD"
      },
      "source": [
        "minimizar f(x1, x2) = (x1^2 +x2 -11)^2 +(x2^2 +x1 -7)^2, sujeto  x1 >=0 , x2<=5 , con estado inicial (2.5, 2.5) , utilizando simulated annealing\n",
        "\n"
      ]
    },
    {
      "cell_type": "code",
      "metadata": {
        "id": "9HfwC7g6jCcW"
      },
      "source": [
        "class Estado:\n",
        "  x1 = 0\n",
        "  x2 = 0\n",
        "  def __init__(self, x1, x2):\n",
        "    self.x1 = x1\n",
        "    self.x2 = x2\n",
        "  def __str__(self):\n",
        "    return \"({}, {})\".format(self.x1, self.x2)\n",
        "  def __repr__(self):\n",
        "    return self.__str__()"
      ],
      "execution_count": null,
      "outputs": []
    },
    {
      "cell_type": "code",
      "metadata": {
        "id": "YjO_Ehqgeae4"
      },
      "source": [
        "def fcost(estado):\n",
        "  x1 = estado.x1\n",
        "  x2 = estado.x2\n",
        "  f = float('inf')\n",
        "  if x1 >=0 and x2<=5: \n",
        "    f = (x1**2 +x2-11)**2 +(x2**2 +x1 -7)**2 \n",
        "  return f"
      ],
      "execution_count": null,
      "outputs": []
    },
    {
      "cell_type": "code",
      "metadata": {
        "id": "_KdEEQM9em3f"
      },
      "source": [
        "#se mueve solo en x1 (2)  -> (2.6, 2.5) (2.4, 2.5)\n",
        "#se mueve solo en x2 (2) ->\n",
        "#se mueve en x1 y en x2 (4) (2.6, 2.6) (2.4, 2.4) ...\n",
        "#(2.5, 2.5)\n",
        "\n",
        "def generar_nuevo_x1(x1_actual):\n",
        "    nuevo_x1 = -1000\n",
        "    if rn.random() < 0.5: return x1_actual\n",
        "\n",
        "    while nuevo_x1 < 0:\n",
        "      delta = 0.1\n",
        "      if rn.random() > 0.5:\n",
        "        delta = -delta\n",
        "      nuevo_x1 = x1_actual + delta\n",
        "    return nuevo_x1\n",
        "\n",
        "def generar_nuevo_x2(x2_actual):\n",
        "    nuevo_x2 = -1000\n",
        "    if rn.random() < 0.5: return x2_actual\n",
        "\n",
        "    while nuevo_x2 < 0:\n",
        "      delta = 0.1\n",
        "      if rn.random() > 0.5:\n",
        "        delta = -delta\n",
        "      nuevo_x2 = x2_actual + delta\n",
        "    return nuevo_x2"
      ],
      "execution_count": null,
      "outputs": []
    },
    {
      "cell_type": "code",
      "metadata": {
        "id": "vhE79bY8ejyI"
      },
      "source": [
        "def generar_estado_siguiente(actual):\n",
        "  nuevo = Estado(generar_nuevo_x1(actual.x1), generar_nuevo_x2(actual.x2))\n",
        "  return nuevo"
      ],
      "execution_count": null,
      "outputs": []
    },
    {
      "cell_type": "code",
      "metadata": {
        "id": "dIGGxyK3YBVx"
      },
      "source": [
        "def disminuir_temperatura(temp_actual, factor):\n",
        "        return factor * temp_actual"
      ],
      "execution_count": null,
      "outputs": []
    },
    {
      "cell_type": "code",
      "metadata": {
        "id": "3N09hlRojgdG"
      },
      "source": [
        "def simulated_anneling(temp_inicial, estado_inicial, factor):\n",
        "  T = temp_inicial\n",
        "  actual = estado_inicial\n",
        "  while T > 0.01:\n",
        "    nuevo = generar_estado_siguiente(actual)\n",
        "    delta_e = fcost(nuevo) - fcost(actual)\n",
        "    if delta_e < 0: # en este caso < 0 porque se está minimizando la función\n",
        "      actual = nuevo\n",
        "    elif rn.random() < p(delta_e, T):\n",
        "      actual = nuevo\n",
        "    T = disminuir_temperatura(T, factor)\n",
        "\n",
        "  return actual"
      ],
      "execution_count": null,
      "outputs": []
    },
    {
      "cell_type": "code",
      "metadata": {
        "id": "CkMcnhyzmPKB",
        "colab": {
          "base_uri": "https://localhost:8080/",
          "height": 52
        },
        "outputId": "61f1dd16-0dc4-4f20-c923-3b306a1d9dad"
      },
      "source": [
        "r = simulated_anneling(800, Estado(2.5,2.5), 0.9)\n",
        "print(r)\n",
        "fcost(r)"
      ],
      "execution_count": null,
      "outputs": [
        {
          "output_type": "stream",
          "text": [
            "(3.0000000000000004, 1.9999999999999996)\n"
          ],
          "name": "stdout"
        },
        {
          "output_type": "execute_result",
          "data": {
            "text/plain": [
              "1.5777218104420236e-29"
            ]
          },
          "metadata": {
            "tags": []
          },
          "execution_count": 124
        }
      ]
    }
  ]
}